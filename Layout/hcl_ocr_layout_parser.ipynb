{
  "cells": [
    {
      "cell_type": "code",
      "execution_count": 5,
      "metadata": {
        "colab": {
          "base_uri": "https://localhost:8080/",
          "height": 1000
        },
        "id": "5uDO8vBR9Hbm",
        "outputId": "c11f5b63-991b-49fc-9c64-8700b9e0fc5c"
      },
      "outputs": [
        {
          "name": "stdout",
          "output_type": "stream",
          "text": [
            "Requirement already satisfied: layoutparser in c:\\users\\pwayk\\appdata\\local\\programs\\python\\python39\\lib\\site-packages (0.3.4)Note: you may need to restart the kernel to use updated packages.\n",
            "Requirement already satisfied: pillow in c:\\users\\pwayk\\appdata\\local\\programs\\python\\python39\\lib\\site-packages (from layoutparser) (8.4.0)\n",
            "Requirement already satisfied: opencv-python in c:\\users\\pwayk\\appdata\\local\\programs\\python\\python39\\lib\\site-packages (from layoutparser) (4.5.5.62)\n",
            "Requirement already satisfied: pyyaml>=5.1 in c:\\users\\pwayk\\appdata\\local\\programs\\python\\python39\\lib\\site-packages (from layoutparser) (5.4.1)\n",
            "Requirement already satisfied: pandas in c:\\users\\pwayk\\appdata\\local\\programs\\python\\python39\\lib\\site-packages (from layoutparser) (1.3.5)\n",
            "Requirement already satisfied: pdf2image in c:\\users\\pwayk\\appdata\\local\\programs\\python\\python39\\lib\\site-packages (from layoutparser) (1.16.0)\n",
            "Requirement already satisfied: scipy in c:\\users\\pwayk\\appdata\\local\\programs\\python\\python39\\lib\\site-packages (from layoutparser) (1.7.3)\n",
            "Requirement already satisfied: iopath in c:\\users\\pwayk\\appdata\\local\\programs\\python\\python39\\lib\\site-packages (from layoutparser) (0.1.10)\n",
            "Requirement already satisfied: pdfplumber in c:\\users\\pwayk\\appdata\\local\\programs\\python\\python39\\lib\\site-packages (from layoutparser) (0.6.0)\n",
            "Requirement already satisfied: numpy in c:\\users\\pwayk\\appdata\\local\\programs\\python\\python39\\lib\\site-packages (from layoutparser) (1.21.6)\n",
            "Requirement already satisfied: typing-extensions in c:\\users\\pwayk\\appdata\\local\\programs\\python\\python39\\lib\\site-packages (from iopath->layoutparser) (4.2.0)\n",
            "Requirement already satisfied: tqdm in c:\\users\\pwayk\\appdata\\local\\programs\\python\\python39\\lib\\site-packages (from iopath->layoutparser) (4.62.3)\n",
            "Requirement already satisfied: portalocker in c:\\users\\pwayk\\appdata\\local\\programs\\python\\python39\\lib\\site-packages (from iopath->layoutparser) (2.5.1)\n",
            "Requirement already satisfied: python-dateutil>=2.7.3 in c:\\users\\pwayk\\appdata\\local\\programs\\python\\python39\\lib\\site-packages (from pandas->layoutparser) (2.7.5)\n",
            "Requirement already satisfied: pytz>=2017.3 in c:\\users\\pwayk\\appdata\\local\\programs\\python\\python39\\lib\\site-packages (from pandas->layoutparser) (2021.3)\n",
            "Requirement already satisfied: pdfminer.six==20211012 in c:\\users\\pwayk\\appdata\\local\\programs\\python\\python39\\lib\\site-packages (from pdfplumber->layoutparser) (20211012)\n",
            "Requirement already satisfied: Wand>=0.6.7 in c:\\users\\pwayk\\appdata\\local\\programs\\python\\python39\\lib\\site-packages (from pdfplumber->layoutparser) (0.6.7)\n",
            "Requirement already satisfied: cryptography in c:\\users\\pwayk\\appdata\\local\\programs\\python\\python39\\lib\\site-packages (from pdfminer.six==20211012->pdfplumber->layoutparser) (36.0.1)\n",
            "Requirement already satisfied: chardet in c:\\users\\pwayk\\appdata\\local\\programs\\python\\python39\\lib\\site-packages (from pdfminer.six==20211012->pdfplumber->layoutparser) (3.0.4)\n",
            "Requirement already satisfied: six>=1.5 in c:\\users\\pwayk\\appdata\\local\\programs\\python\\python39\\lib\\site-packages (from python-dateutil>=2.7.3->pandas->layoutparser) (1.15.0)\n",
            "Requirement already satisfied: pywin32>=226 in c:\\users\\pwayk\\appdata\\local\\programs\\python\\python39\\lib\\site-packages (from portalocker->iopath->layoutparser) (302)\n",
            "Requirement already satisfied: colorama in c:\\users\\pwayk\\appdata\\local\\programs\\python\\python39\\lib\\site-packages (from tqdm->iopath->layoutparser) (0.4.4)\n",
            "\n"
          ]
        },
        {
          "name": "stderr",
          "output_type": "stream",
          "text": [
            "WARNING: You are using pip version 22.0.3; however, version 22.1.2 is available."
          ]
        },
        {
          "name": "stdout",
          "output_type": "stream",
          "text": [
            "Requirement already satisfied: cffi>=1.12 in c:\\users\\pwayk\\appdata\\local\\programs\\python\\python39\\lib\\site-packages (from cryptography->pdfminer.six==20211012->pdfplumber->layoutparser) (1.15.0)\n",
            "Requirement already satisfied: pycparser in c:\\users\\pwayk\\appdata\\local\\programs\\python\\python39\\lib\\site-packages (from cffi>=1.12->cryptography->pdfminer.six==20211012->pdfplumber->layoutparser) (2.21)\n"
          ]
        },
        {
          "name": "stderr",
          "output_type": "stream",
          "text": [
            "\n",
            "You should consider upgrading via the 'c:\\Users\\pwayk\\AppData\\Local\\Programs\\Python\\Python39\\python.exe -m pip install --upgrade pip' command.\n"
          ]
        }
      ],
      "source": [
        "%pip install -U layoutparser"
      ]
    },
    {
      "cell_type": "code",
      "execution_count": 6,
      "metadata": {
        "colab": {
          "base_uri": "https://localhost:8080/"
        },
        "id": "73d_Me4l9WaF",
        "outputId": "cad10410-e5d1-40a1-9c68-447827603dae"
      },
      "outputs": [
        {
          "name": "stdout",
          "output_type": "stream",
          "text": [
            "Note: you may need to restart the kernel to use updated packages.\n"
          ]
        },
        {
          "name": "stderr",
          "output_type": "stream",
          "text": [
            "ERROR: Invalid requirement: \"'git+https://github.com/facebookresearch/detectron2.git@v0.6#egg=detectron2'\"\n",
            "Hint: = is not a valid operator. Did you mean == ?\n",
            "WARNING: You are using pip version 22.0.3; however, version 22.1.2 is available.\n",
            "You should consider upgrading via the 'c:\\Users\\pwayk\\AppData\\Local\\Programs\\Python\\Python39\\python.exe -m pip install --upgrade pip' command.\n"
          ]
        }
      ],
      "source": [
        "%pip install 'git+https://github.com/facebookresearch/detectron2.git@v0.6#egg=detectron2' "
      ]
    },
    {
      "cell_type": "code",
      "execution_count": 7,
      "metadata": {
        "colab": {
          "base_uri": "https://localhost:8080/"
        },
        "id": "80dby68Go4Ah",
        "outputId": "40bcf1a3-e4e5-4966-885a-180a170c12ff"
      },
      "outputs": [
        {
          "name": "stdout",
          "output_type": "stream",
          "text": [
            "Collecting tesseract-ocr\n",
            "  Using cached tesseract-ocr-0.0.1.tar.gz (33 kB)\n",
            "  Preparing metadata (setup.py): started\n",
            "  Preparing metadata (setup.py): finished with status 'done'\n",
            "Requirement already satisfied: cython in c:\\users\\pwayk\\appdata\\local\\programs\\python\\python39\\lib\\site-packages (from tesseract-ocr) (0.29.23)\n",
            "Building wheels for collected packages: tesseract-ocr\n",
            "  Building wheel for tesseract-ocr (setup.py): started\n",
            "  Building wheel for tesseract-ocr (setup.py): finished with status 'error'\n",
            "  Running setup.py clean for tesseract-ocr\n",
            "Failed to build tesseract-ocr\n",
            "Installing collected packages: tesseract-ocr\n",
            "  Running setup.py install for tesseract-ocr: started\n",
            "  Running setup.py install for tesseract-ocr: finished with status 'error'\n",
            "Note: you may need to restart the kernel to use updated packages.\n"
          ]
        },
        {
          "name": "stderr",
          "output_type": "stream",
          "text": [
            "  error: subprocess-exited-with-error\n",
            "  \n",
            "  × python setup.py bdist_wheel did not run successfully.\n",
            "  │ exit code: 1\n",
            "  ╰─> [16 lines of output]\n",
            "      c:\\Users\\pwayk\\AppData\\Local\\Programs\\Python\\Python39\\lib\\site-packages\\setuptools\\dist.py:697: UserWarning: Usage of dash-separated 'description-file' will not be supported in future versions. Please use the underscore name 'description_file' instead\n",
            "        warnings.warn(\n",
            "      running bdist_wheel\n",
            "      running build\n",
            "      running build_py\n",
            "      file tesseract_ocr.py (for module tesseract_ocr) not found\n",
            "      file tesseract_ocr.py (for module tesseract_ocr) not found\n",
            "      running build_ext\n",
            "      building 'tesseract_ocr' extension\n",
            "      creating build\n",
            "      creating build\\temp.win-amd64-3.9\n",
            "      creating build\\temp.win-amd64-3.9\\Release\n",
            "      C:\\Program Files\\Microsoft Visual Studio\\2022\\Community\\VC\\Tools\\MSVC\\14.31.31103\\bin\\HostX86\\x64\\cl.exe /c /nologo /Ox /W3 /GL /DNDEBUG /MD -Ic:\\Users\\pwayk\\AppData\\Local\\Programs\\Python\\Python39\\include -Ic:\\Users\\pwayk\\AppData\\Local\\Programs\\Python\\Python39\\include -IC:\\Program Files\\Microsoft Visual Studio\\2022\\Community\\VC\\Tools\\MSVC\\14.31.31103\\ATLMFC\\include -IC:\\Program Files\\Microsoft Visual Studio\\2022\\Community\\VC\\Tools\\MSVC\\14.31.31103\\include -IC:\\Program Files (x86)\\Windows Kits\\NETFXSDK\\4.8\\include\\um -IC:\\Program Files (x86)\\Windows Kits\\10\\include\\10.0.19041.0\\ucrt -IC:\\Program Files (x86)\\Windows Kits\\10\\\\include\\10.0.19041.0\\\\shared -IC:\\Program Files (x86)\\Windows Kits\\10\\\\include\\10.0.19041.0\\\\um -IC:\\Program Files (x86)\\Windows Kits\\10\\\\include\\10.0.19041.0\\\\winrt -IC:\\Program Files (x86)\\Windows Kits\\10\\\\include\\10.0.19041.0\\\\cppwinrt /EHsc /Tptesseract_ocr.cpp /Fobuild\\temp.win-amd64-3.9\\Release\\tesseract_ocr.obj\n",
            "      tesseract_ocr.cpp\n",
            "      tesseract_ocr.cpp(645): fatal error C1083: Cannot open include file: 'leptonica/allheaders.h': No such file or directory\n",
            "      error: command 'C:\\\\Program Files\\\\Microsoft Visual Studio\\\\2022\\\\Community\\\\VC\\\\Tools\\\\MSVC\\\\14.31.31103\\\\bin\\\\HostX86\\\\x64\\\\cl.exe' failed with exit code 2\n",
            "      [end of output]\n",
            "  \n",
            "  note: This error originates from a subprocess, and is likely not a problem with pip.\n",
            "  ERROR: Failed building wheel for tesseract-ocr\n",
            "  error: subprocess-exited-with-error\n",
            "  \n",
            "  × Running setup.py install for tesseract-ocr did not run successfully.\n",
            "  │ exit code: 1\n",
            "  ╰─> [16 lines of output]\n",
            "      c:\\Users\\pwayk\\AppData\\Local\\Programs\\Python\\Python39\\lib\\site-packages\\setuptools\\dist.py:697: UserWarning: Usage of dash-separated 'description-file' will not be supported in future versions. Please use the underscore name 'description_file' instead\n",
            "        warnings.warn(\n",
            "      running install\n",
            "      running build\n",
            "      running build_py\n",
            "      file tesseract_ocr.py (for module tesseract_ocr) not found\n",
            "      file tesseract_ocr.py (for module tesseract_ocr) not found\n",
            "      running build_ext\n",
            "      building 'tesseract_ocr' extension\n",
            "      creating build\n",
            "      creating build\\temp.win-amd64-3.9\n",
            "      creating build\\temp.win-amd64-3.9\\Release\n",
            "      C:\\Program Files\\Microsoft Visual Studio\\2022\\Community\\VC\\Tools\\MSVC\\14.31.31103\\bin\\HostX86\\x64\\cl.exe /c /nologo /Ox /W3 /GL /DNDEBUG /MD -Ic:\\Users\\pwayk\\AppData\\Local\\Programs\\Python\\Python39\\include -Ic:\\Users\\pwayk\\AppData\\Local\\Programs\\Python\\Python39\\include -IC:\\Program Files\\Microsoft Visual Studio\\2022\\Community\\VC\\Tools\\MSVC\\14.31.31103\\ATLMFC\\include -IC:\\Program Files\\Microsoft Visual Studio\\2022\\Community\\VC\\Tools\\MSVC\\14.31.31103\\include -IC:\\Program Files (x86)\\Windows Kits\\NETFXSDK\\4.8\\include\\um -IC:\\Program Files (x86)\\Windows Kits\\10\\include\\10.0.19041.0\\ucrt -IC:\\Program Files (x86)\\Windows Kits\\10\\\\include\\10.0.19041.0\\\\shared -IC:\\Program Files (x86)\\Windows Kits\\10\\\\include\\10.0.19041.0\\\\um -IC:\\Program Files (x86)\\Windows Kits\\10\\\\include\\10.0.19041.0\\\\winrt -IC:\\Program Files (x86)\\Windows Kits\\10\\\\include\\10.0.19041.0\\\\cppwinrt /EHsc /Tptesseract_ocr.cpp /Fobuild\\temp.win-amd64-3.9\\Release\\tesseract_ocr.obj\n",
            "      tesseract_ocr.cpp\n",
            "      tesseract_ocr.cpp(645): fatal error C1083: Cannot open include file: 'leptonica/allheaders.h': No such file or directory\n",
            "      error: command 'C:\\\\Program Files\\\\Microsoft Visual Studio\\\\2022\\\\Community\\\\VC\\\\Tools\\\\MSVC\\\\14.31.31103\\\\bin\\\\HostX86\\\\x64\\\\cl.exe' failed with exit code 2\n",
            "      [end of output]\n",
            "  \n",
            "  note: This error originates from a subprocess, and is likely not a problem with pip.\n",
            "error: legacy-install-failure\n",
            "\n",
            "× Encountered error while trying to install package.\n",
            "╰─> tesseract-ocr\n",
            "\n",
            "note: This is an issue with the package mentioned above, not pip.\n",
            "hint: See above for output from the failure.\n",
            "WARNING: You are using pip version 22.0.3; however, version 22.1.2 is available.\n",
            "You should consider upgrading via the 'c:\\Users\\pwayk\\AppData\\Local\\Programs\\Python\\Python39\\python.exe -m pip install --upgrade pip' command.\n"
          ]
        }
      ],
      "source": [
        "%pip install tesseract-ocr"
      ]
    },
    {
      "cell_type": "code",
      "execution_count": 8,
      "metadata": {
        "colab": {
          "base_uri": "https://localhost:8080/"
        },
        "id": "wY7FeHKn9Z88",
        "outputId": "e95dadff-7ff0-4d26-a312-c87feda25b93"
      },
      "outputs": [
        {
          "name": "stdout",
          "output_type": "stream",
          "text": [
            "Requirement already satisfied: layoutparser[ocr] in c:\\users\\pwayk\\appdata\\local\\programs\\python\\python39\\lib\\site-packages (0.3.4)Note: you may need to restart the kernel to use updated packages.\n"
          ]
        },
        {
          "name": "stderr",
          "output_type": "stream",
          "text": [
            "WARNING: You are using pip version 22.0.3; however, version 22.1.2 is available.\n",
            "You should consider upgrading via the 'c:\\Users\\pwayk\\AppData\\Local\\Programs\\Python\\Python39\\python.exe -m pip install --upgrade pip' command.\n"
          ]
        },
        {
          "name": "stdout",
          "output_type": "stream",
          "text": [
            "\n",
            "Requirement already satisfied: pyyaml>=5.1 in c:\\users\\pwayk\\appdata\\local\\programs\\python\\python39\\lib\\site-packages (from layoutparser[ocr]) (5.4.1)\n",
            "Requirement already satisfied: pillow in c:\\users\\pwayk\\appdata\\local\\programs\\python\\python39\\lib\\site-packages (from layoutparser[ocr]) (8.4.0)\n",
            "Requirement already satisfied: opencv-python in c:\\users\\pwayk\\appdata\\local\\programs\\python\\python39\\lib\\site-packages (from layoutparser[ocr]) (4.5.5.62)\n",
            "Requirement already satisfied: numpy in c:\\users\\pwayk\\appdata\\local\\programs\\python\\python39\\lib\\site-packages (from layoutparser[ocr]) (1.21.6)\n",
            "Requirement already satisfied: pdfplumber in c:\\users\\pwayk\\appdata\\local\\programs\\python\\python39\\lib\\site-packages (from layoutparser[ocr]) (0.6.0)\n",
            "Requirement already satisfied: iopath in c:\\users\\pwayk\\appdata\\local\\programs\\python\\python39\\lib\\site-packages (from layoutparser[ocr]) (0.1.10)\n",
            "Requirement already satisfied: scipy in c:\\users\\pwayk\\appdata\\local\\programs\\python\\python39\\lib\\site-packages (from layoutparser[ocr]) (1.7.3)\n",
            "Requirement already satisfied: pandas in c:\\users\\pwayk\\appdata\\local\\programs\\python\\python39\\lib\\site-packages (from layoutparser[ocr]) (1.3.5)\n",
            "Requirement already satisfied: pdf2image in c:\\users\\pwayk\\appdata\\local\\programs\\python\\python39\\lib\\site-packages (from layoutparser[ocr]) (1.16.0)\n",
            "Requirement already satisfied: google-cloud-vision==1 in c:\\users\\pwayk\\appdata\\local\\programs\\python\\python39\\lib\\site-packages (from layoutparser[ocr]) (1.0.0)\n",
            "Requirement already satisfied: pytesseract in c:\\users\\pwayk\\appdata\\local\\programs\\python\\python39\\lib\\site-packages (from layoutparser[ocr]) (0.3.9)\n",
            "Requirement already satisfied: google-api-core[grpc]<2.0.0dev,>=1.14.0 in c:\\users\\pwayk\\appdata\\local\\programs\\python\\python39\\lib\\site-packages (from google-cloud-vision==1->layoutparser[ocr]) (1.31.6)\n",
            "Requirement already satisfied: portalocker in c:\\users\\pwayk\\appdata\\local\\programs\\python\\python39\\lib\\site-packages (from iopath->layoutparser[ocr]) (2.5.1)\n",
            "Requirement already satisfied: tqdm in c:\\users\\pwayk\\appdata\\local\\programs\\python\\python39\\lib\\site-packages (from iopath->layoutparser[ocr]) (4.62.3)\n",
            "Requirement already satisfied: typing-extensions in c:\\users\\pwayk\\appdata\\local\\programs\\python\\python39\\lib\\site-packages (from iopath->layoutparser[ocr]) (4.2.0)\n",
            "Requirement already satisfied: pytz>=2017.3 in c:\\users\\pwayk\\appdata\\local\\programs\\python\\python39\\lib\\site-packages (from pandas->layoutparser[ocr]) (2021.3)\n",
            "Requirement already satisfied: python-dateutil>=2.7.3 in c:\\users\\pwayk\\appdata\\local\\programs\\python\\python39\\lib\\site-packages (from pandas->layoutparser[ocr]) (2.7.5)\n",
            "Requirement already satisfied: Wand>=0.6.7 in c:\\users\\pwayk\\appdata\\local\\programs\\python\\python39\\lib\\site-packages (from pdfplumber->layoutparser[ocr]) (0.6.7)\n",
            "Requirement already satisfied: pdfminer.six==20211012 in c:\\users\\pwayk\\appdata\\local\\programs\\python\\python39\\lib\\site-packages (from pdfplumber->layoutparser[ocr]) (20211012)\n",
            "Requirement already satisfied: chardet in c:\\users\\pwayk\\appdata\\local\\programs\\python\\python39\\lib\\site-packages (from pdfminer.six==20211012->pdfplumber->layoutparser[ocr]) (3.0.4)\n",
            "Requirement already satisfied: cryptography in c:\\users\\pwayk\\appdata\\local\\programs\\python\\python39\\lib\\site-packages (from pdfminer.six==20211012->pdfplumber->layoutparser[ocr]) (36.0.1)\n",
            "Requirement already satisfied: packaging>=21.3 in c:\\users\\pwayk\\appdata\\local\\programs\\python\\python39\\lib\\site-packages (from pytesseract->layoutparser[ocr]) (21.3)\n",
            "Requirement already satisfied: six>=1.13.0 in c:\\users\\pwayk\\appdata\\local\\programs\\python\\python39\\lib\\site-packages (from google-api-core[grpc]<2.0.0dev,>=1.14.0->google-cloud-vision==1->layoutparser[ocr]) (1.15.0)\n",
            "Requirement already satisfied: requests<3.0.0dev,>=2.18.0 in c:\\users\\pwayk\\appdata\\local\\programs\\python\\python39\\lib\\site-packages (from google-api-core[grpc]<2.0.0dev,>=1.14.0->google-cloud-vision==1->layoutparser[ocr]) (2.27.1)\n",
            "Requirement already satisfied: googleapis-common-protos<2.0dev,>=1.6.0 in c:\\users\\pwayk\\appdata\\local\\programs\\python\\python39\\lib\\site-packages (from google-api-core[grpc]<2.0.0dev,>=1.14.0->google-cloud-vision==1->layoutparser[ocr]) (1.56.3)\n",
            "Requirement already satisfied: protobuf<4.0.0dev,>=3.12.0 in c:\\users\\pwayk\\appdata\\local\\programs\\python\\python39\\lib\\site-packages (from google-api-core[grpc]<2.0.0dev,>=1.14.0->google-cloud-vision==1->layoutparser[ocr]) (3.19.1)\n",
            "Requirement already satisfied: setuptools>=40.3.0 in c:\\users\\pwayk\\appdata\\local\\programs\\python\\python39\\lib\\site-packages (from google-api-core[grpc]<2.0.0dev,>=1.14.0->google-cloud-vision==1->layoutparser[ocr]) (57.4.0)\n",
            "Requirement already satisfied: google-auth<2.0dev,>=1.25.0 in c:\\users\\pwayk\\appdata\\local\\programs\\python\\python39\\lib\\site-packages (from google-api-core[grpc]<2.0.0dev,>=1.14.0->google-cloud-vision==1->layoutparser[ocr]) (1.35.0)\n",
            "Requirement already satisfied: grpcio<2.0dev,>=1.29.0 in c:\\users\\pwayk\\appdata\\local\\programs\\python\\python39\\lib\\site-packages (from google-api-core[grpc]<2.0.0dev,>=1.14.0->google-cloud-vision==1->layoutparser[ocr]) (1.42.0)\n",
            "Requirement already satisfied: pyparsing!=3.0.5,>=2.0.2 in c:\\users\\pwayk\\appdata\\local\\programs\\python\\python39\\lib\\site-packages (from packaging>=21.3->pytesseract->layoutparser[ocr]) (3.0.6)\n",
            "Requirement already satisfied: pywin32>=226 in c:\\users\\pwayk\\appdata\\local\\programs\\python\\python39\\lib\\site-packages (from portalocker->iopath->layoutparser[ocr]) (302)\n",
            "Requirement already satisfied: colorama in c:\\users\\pwayk\\appdata\\local\\programs\\python\\python39\\lib\\site-packages (from tqdm->iopath->layoutparser[ocr]) (0.4.4)\n",
            "Requirement already satisfied: pyasn1-modules>=0.2.1 in c:\\users\\pwayk\\appdata\\local\\programs\\python\\python39\\lib\\site-packages (from google-auth<2.0dev,>=1.25.0->google-api-core[grpc]<2.0.0dev,>=1.14.0->google-cloud-vision==1->layoutparser[ocr]) (0.2.8)\n",
            "Requirement already satisfied: cachetools<5.0,>=2.0.0 in c:\\users\\pwayk\\appdata\\local\\programs\\python\\python39\\lib\\site-packages (from google-auth<2.0dev,>=1.25.0->google-api-core[grpc]<2.0.0dev,>=1.14.0->google-cloud-vision==1->layoutparser[ocr]) (4.2.2)\n",
            "Requirement already satisfied: rsa<5,>=3.1.4 in c:\\users\\pwayk\\appdata\\local\\programs\\python\\python39\\lib\\site-packages (from google-auth<2.0dev,>=1.25.0->google-api-core[grpc]<2.0.0dev,>=1.14.0->google-cloud-vision==1->layoutparser[ocr]) (4.8)\n",
            "Requirement already satisfied: urllib3<1.27,>=1.21.1 in c:\\users\\pwayk\\appdata\\local\\programs\\python\\python39\\lib\\site-packages (from requests<3.0.0dev,>=2.18.0->google-api-core[grpc]<2.0.0dev,>=1.14.0->google-cloud-vision==1->layoutparser[ocr]) (1.26.9)\n",
            "Requirement already satisfied: idna<4,>=2.5 in c:\\users\\pwayk\\appdata\\local\\programs\\python\\python39\\lib\\site-packages (from requests<3.0.0dev,>=2.18.0->google-api-core[grpc]<2.0.0dev,>=1.14.0->google-cloud-vision==1->layoutparser[ocr]) (2.6)\n",
            "Requirement already satisfied: certifi>=2017.4.17 in c:\\users\\pwayk\\appdata\\local\\programs\\python\\python39\\lib\\site-packages (from requests<3.0.0dev,>=2.18.0->google-api-core[grpc]<2.0.0dev,>=1.14.0->google-cloud-vision==1->layoutparser[ocr]) (2021.10.8)\n",
            "Requirement already satisfied: charset-normalizer~=2.0.0 in c:\\users\\pwayk\\appdata\\local\\programs\\python\\python39\\lib\\site-packages (from requests<3.0.0dev,>=2.18.0->google-api-core[grpc]<2.0.0dev,>=1.14.0->google-cloud-vision==1->layoutparser[ocr]) (2.0.9)\n",
            "Requirement already satisfied: cffi>=1.12 in c:\\users\\pwayk\\appdata\\local\\programs\\python\\python39\\lib\\site-packages (from cryptography->pdfminer.six==20211012->pdfplumber->layoutparser[ocr]) (1.15.0)\n",
            "Requirement already satisfied: pycparser in c:\\users\\pwayk\\appdata\\local\\programs\\python\\python39\\lib\\site-packages (from cffi>=1.12->cryptography->pdfminer.six==20211012->pdfplumber->layoutparser[ocr]) (2.21)\n",
            "Requirement already satisfied: pyasn1<0.5.0,>=0.4.6 in c:\\users\\pwayk\\appdata\\local\\programs\\python\\python39\\lib\\site-packages (from pyasn1-modules>=0.2.1->google-auth<2.0dev,>=1.25.0->google-api-core[grpc]<2.0.0dev,>=1.14.0->google-cloud-vision==1->layoutparser[ocr]) (0.4.8)\n"
          ]
        }
      ],
      "source": [
        "%pip install layoutparser[ocr]     "
      ]
    },
    {
      "cell_type": "code",
      "execution_count": 9,
      "metadata": {
        "colab": {
          "base_uri": "https://localhost:8080/"
        },
        "id": "V5I_ILLr-FSK",
        "outputId": "8c396be5-918b-4982-f2c7-062c1c930e02"
      },
      "outputs": [
        {
          "name": "stderr",
          "output_type": "stream",
          "text": [
            "Cloning into 'layout-parser'...\n",
            "error: RPC failed; curl 56 OpenSSL SSL_read: Connection was reset, errno 10054\n",
            "error: 3159 bytes of body are still expected\n",
            "fetch-pack: unexpected disconnect while reading sideband packet\n",
            "fatal: early EOF\n",
            "fatal: fetch-pack: invalid index-pack output\n"
          ]
        }
      ],
      "source": [
        "!git clone https://github.com/Layout-Parser/layout-parser.git"
      ]
    },
    {
      "cell_type": "code",
      "execution_count": 10,
      "metadata": {
        "colab": {
          "base_uri": "https://localhost:8080/",
          "height": 1000
        },
        "id": "t0Cv4QiRALYv",
        "outputId": "52c7018c-e90d-4e0d-b3dc-745f4c5e7c71"
      },
      "outputs": [
        {
          "data": {
            "text/plain": [
              "-1"
            ]
          },
          "execution_count": 10,
          "metadata": {},
          "output_type": "execute_result"
        }
      ],
      "source": [
        "import cv2\n",
        "# from google.colab.patches import cv2_imshow\n",
        "\n",
        "image = cv2.imread(\"images\\out0.jpg\")\n",
        "image = image[..., ::-1] \n",
        "cv2.imshow(\"image\",image)\n",
        "cv2.waitKey(0)\n",
        "#/content/Injection (1).jpg"
      ]
    },
    {
      "cell_type": "code",
      "execution_count": 24,
      "metadata": {},
      "outputs": [],
      "source": [
        "import layoutparser as lp\n",
        "ocr_agent = lp.TesseractAgent(languages='eng') "
      ]
    },
    {
      "cell_type": "code",
      "execution_count": 25,
      "metadata": {
        "colab": {
          "base_uri": "https://localhost:8080/",
          "height": 373
        },
        "id": "5LmEUX5z-Sar",
        "outputId": "30b67222-8d07-4f9f-acd2-2d44068d8d6e"
      },
      "outputs": [
        {
          "ename": "AttributeError",
          "evalue": "module layoutparser has no attribute Detectron2LayoutModel",
          "output_type": "error",
          "traceback": [
            "\u001b[1;31m---------------------------------------------------------------------------\u001b[0m",
            "\u001b[1;31mAttributeError\u001b[0m                            Traceback (most recent call last)",
            "\u001b[1;32m~\\AppData\\Local\\Temp/ipykernel_22196/2757930469.py\u001b[0m in \u001b[0;36m<module>\u001b[1;34m\u001b[0m\n\u001b[1;32m----> 1\u001b[1;33m model = lp.Detectron2LayoutModel('lp://PubLayNet/mask_rcnn_X_101_32x8d_FPN_3x/config',extra_config=[\"MODEL.ROI_HEADS.SCORE_THRESH_TEST\", 0.65],\n\u001b[0m\u001b[0;32m      2\u001b[0m                                  label_map={0: \"Text\", 1: \"Title\", 2: \"List\", 3:\"Table\", 4:\"Figure\"})\n\u001b[0;32m      3\u001b[0m \u001b[0mlayout\u001b[0m \u001b[1;33m=\u001b[0m \u001b[0mmodel\u001b[0m\u001b[1;33m.\u001b[0m\u001b[0mdetect\u001b[0m\u001b[1;33m(\u001b[0m\u001b[0mimage\u001b[0m\u001b[1;33m)\u001b[0m \u001b[1;31m# You need to load the image somewhere else, e.g., image = cv2.imread(...)\u001b[0m\u001b[1;33m\u001b[0m\u001b[1;33m\u001b[0m\u001b[0m\n\u001b[0;32m      4\u001b[0m \u001b[0mlp\u001b[0m\u001b[1;33m.\u001b[0m\u001b[0mdraw_box\u001b[0m\u001b[1;33m(\u001b[0m\u001b[0mimage\u001b[0m\u001b[1;33m,\u001b[0m \u001b[0mlayout\u001b[0m\u001b[1;33m,\u001b[0m\u001b[1;33m)\u001b[0m\u001b[1;33m\u001b[0m\u001b[1;33m\u001b[0m\u001b[0m\n",
            "\u001b[1;32mc:\\Users\\pwayk\\AppData\\Local\\Programs\\Python\\Python39\\lib\\site-packages\\layoutparser\\file_utils.py\u001b[0m in \u001b[0;36m__getattr__\u001b[1;34m(self, name)\u001b[0m\n\u001b[0;32m    224\u001b[0m             \u001b[0mvalue\u001b[0m \u001b[1;33m=\u001b[0m \u001b[0mgetattr\u001b[0m\u001b[1;33m(\u001b[0m\u001b[0mmodule\u001b[0m\u001b[1;33m,\u001b[0m \u001b[0mname\u001b[0m\u001b[1;33m)\u001b[0m\u001b[1;33m\u001b[0m\u001b[1;33m\u001b[0m\u001b[0m\n\u001b[0;32m    225\u001b[0m         \u001b[1;32melse\u001b[0m\u001b[1;33m:\u001b[0m\u001b[1;33m\u001b[0m\u001b[1;33m\u001b[0m\u001b[0m\n\u001b[1;32m--> 226\u001b[1;33m             \u001b[1;32mraise\u001b[0m \u001b[0mAttributeError\u001b[0m\u001b[1;33m(\u001b[0m\u001b[1;34mf\"module {self.__name__} has no attribute {name}\"\u001b[0m\u001b[1;33m)\u001b[0m\u001b[1;33m\u001b[0m\u001b[1;33m\u001b[0m\u001b[0m\n\u001b[0m\u001b[0;32m    227\u001b[0m \u001b[1;33m\u001b[0m\u001b[0m\n\u001b[0;32m    228\u001b[0m         \u001b[0msetattr\u001b[0m\u001b[1;33m(\u001b[0m\u001b[0mself\u001b[0m\u001b[1;33m,\u001b[0m \u001b[0mname\u001b[0m\u001b[1;33m,\u001b[0m \u001b[0mvalue\u001b[0m\u001b[1;33m)\u001b[0m\u001b[1;33m\u001b[0m\u001b[1;33m\u001b[0m\u001b[0m\n",
            "\u001b[1;31mAttributeError\u001b[0m: module layoutparser has no attribute Detectron2LayoutModel"
          ]
        }
      ],
      "source": [
        "\n",
        "model = lp.Detectron2LayoutModel('lp://PubLayNet/mask_rcnn_X_101_32x8d_FPN_3x/config',extra_config=[\"MODEL.ROI_HEADS.SCORE_THRESH_TEST\", 0.65],\n",
        "                                 label_map={0: \"Text\", 1: \"Title\", 2: \"List\", 3:\"Table\", 4:\"Figure\"})\n",
        "layout = model.detect(image) # You need to load the image somewhere else, e.g., image = cv2.imread(...)\n",
        "lp.draw_box(image, layout,)"
      ]
    },
    {
      "cell_type": "code",
      "execution_count": null,
      "metadata": {
        "colab": {
          "base_uri": "https://localhost:8080/"
        },
        "id": "NDcZH-_yAe9h",
        "outputId": "9499f86a-76e4-4f5f-e230-96f0c889aab5"
      },
      "outputs": [
        {
          "data": {
            "text/plain": [
              "17"
            ]
          },
          "execution_count": 4,
          "metadata": {},
          "output_type": "execute_result"
        }
      ],
      "source": [
        "len(layout)"
      ]
    },
    {
      "cell_type": "code",
      "execution_count": null,
      "metadata": {
        "colab": {
          "base_uri": "https://localhost:8080/"
        },
        "id": "FNc76j5YpPaU",
        "outputId": "4b284a4c-e031-4dc0-ef51-6ed7479ca54e"
      },
      "outputs": [
        {
          "data": {
            "text/plain": [
              "Layout(_blocks=[], page_data={})"
            ]
          },
          "execution_count": 34,
          "metadata": {},
          "output_type": "execute_result"
        }
      ],
      "source": [
        "text_blocks = lp.Layout([b for b in layout if b.type==\"Text\"])\n",
        "text_blocks"
      ]
    },
    {
      "cell_type": "code",
      "execution_count": null,
      "metadata": {
        "id": "n4Wf83wNCDfS"
      },
      "outputs": [],
      "source": [
        "figure_blocks = lp.Layout([b for b in layout if b.type=='Figure'])"
      ]
    },
    {
      "cell_type": "code",
      "execution_count": null,
      "metadata": {
        "colab": {
          "base_uri": "https://localhost:8080/"
        },
        "id": "GDk61XxXGTjC",
        "outputId": "0eebfd30-c33b-45ce-aa84-1ebc33d0ba85"
      },
      "outputs": [
        {
          "data": {
            "text/plain": [
              "Layout(_blocks=[TextBlock(block=Rectangle(x_1=179.95457458496094, y_1=0.0, x_2=631.433349609375, y_2=480.0), text=None, id=None, type=Figure, parent=None, next=None, score=0.7257561087608337)], page_data={})"
            ]
          },
          "execution_count": 36,
          "metadata": {},
          "output_type": "execute_result"
        }
      ],
      "source": [
        "figure_blocks"
      ]
    },
    {
      "cell_type": "code",
      "execution_count": null,
      "metadata": {
        "colab": {
          "base_uri": "https://localhost:8080/"
        },
        "id": "aWJPR9edCOqF",
        "outputId": "0b18dd05-4e25-4c6f-f559-1b26ca0c2ef6"
      },
      "outputs": [
        {
          "name": "stdout",
          "output_type": "stream",
          "text": [
            "Injection molding is used for manufacturing a wide variety of parts, frorr\n",
            "small components like AAA battery boxes to large components like truck\n",
            "body panels. Once a component is designed, a mold is made and preci-\n",
            "sion machined to form the features of the desired part. The injection mold-\n",
            "ing takes place when a thermoplastic or thermoset plastic material is fec\n",
            "into a heated barrel, mixed, and forced into the metal mold cavity where i\n",
            "cools and hardens before being removed.\n",
            "\f\n",
            "---\n",
            "Mold and die are used interchangeably to describe the tooling applied to\n",
            "produce plastic parts. They are typically constructed from pre-hardened\n",
            "steel, hardened steel, aluminum, and/or beryllium-copper alloy. Of these\n",
            "materials, hardened steel molds are the most expensive to make, but offer\n",
            "the user a long lifespan, which offsets the cost per part by spreading it over\n",
            "a larger quantity. For low volumes or large components, pre-hardened steel\n",
            "molds provide a less wear-resistant and less expensive option.\n",
            "\f\n",
            "---\n",
            "The most economical molds are produced out of aluminum. When de-\n",
            "signed and built using CNC machines or Electrical Discharge Machining\n",
            "processes, these molds can economically produce tens of thousands to\n",
            "hundreds of thousands of parts. Note that beryllium copper is often used\n",
            "in areas of the mold that require fast heat removal or places that see the\n",
            "most shear heat generated.\n",
            "\f\n",
            "---\n",
            "The injection molding process uses a granular plastic that is gravity fed from\n",
            "a hopper. A screw-type plunger forces the material into a heated chamber,\n",
            "called a barrel, where it is melted. The plunger continues to advance, push-\n",
            "ing the polymer through a nozzle at the end of the barrel that is pressed\n",
            "against the mold. The plastic enters the mold cavity through a gate and\n",
            "runner system. After the cavity is filled, a holding pressure is maintained\n",
            "to compensate for material shrinkage as it cools. At this same time, the\n",
            "\f\n",
            "---\n"
          ]
        }
      ],
      "source": [
        "\n",
        "text_blocks = lp.Layout([b for b in text_blocks \\\n",
        "                   if not any(b.is_in(b_fig) for b_fig in figure_blocks)])\n",
        "h, w = image.shape[:2]\n",
        "\n",
        "left_interval = lp.Interval(0, w/2*1.05, axis='x').put_on_canvas(image)\n",
        "\n",
        "left_blocks = text_blocks.filter_by(left_interval, center=True)\n",
        "left_blocks.sort(key = lambda b:b.coordinates[1])\n",
        "\n",
        "right_blocks = [b for b in text_blocks if b not in left_blocks]\n",
        "right_blocks.sort(key = lambda b:b.coordinates[1])\n",
        "\n",
        "# And finally combine the two list and add the index\n",
        "# according to the order\n",
        "text_blocks = lp.Layout([b.set(id = idx) for idx, b in enumerate(left_blocks + right_blocks)])\n",
        "\n",
        "lp.draw_box(image, text_blocks,\n",
        "            box_width=3, \n",
        "            show_element_id=True)\n",
        "for block in text_blocks:\n",
        "    segment_image = (block\n",
        "                       .pad(left=5, right=5, top=5, bottom=5)\n",
        "                       .crop_image(image))\n",
        "        # add padding in each image segment can help\n",
        "        # improve robustness \n",
        "        \n",
        "    text = ocr_agent.detect(segment_image)\n",
        "    block.set(text=text, inplace=True)\n",
        "text_list = []\n",
        "for txt in text_blocks.get_texts():\n",
        "    print(txt, end='\\n---\\n')\n",
        "    text_list.append(txt)\n"
      ]
    },
    {
      "cell_type": "code",
      "execution_count": null,
      "metadata": {
        "colab": {
          "base_uri": "https://localhost:8080/",
          "height": 88
        },
        "id": "86e43ONuOBdZ",
        "outputId": "cbe5ae9d-2894-440f-c260-548f7622817a"
      },
      "outputs": [
        {
          "data": {
            "application/vnd.google.colaboratory.intrinsic+json": {
              "type": "string"
            },
            "text/plain": [
              "'Injection molding is used for manufacturing a wide variety of parts, frorr\\nsmall components like AAA battery boxes to large components like truck\\nbody panels. Once a component is designed, a mold is made and preci-\\nsion machined to form the features of the desired part. The injection mold-\\ning takes place when a thermoplastic or thermoset plastic material is fec\\ninto a heated barrel, mixed, and forced into the metal mold cavity where i\\ncools and hardens before being removed.\\n\\x0c'"
            ]
          },
          "execution_count": 13,
          "metadata": {},
          "output_type": "execute_result"
        }
      ],
      "source": [
        "text_list[0]"
      ]
    },
    {
      "cell_type": "code",
      "execution_count": null,
      "metadata": {
        "colab": {
          "base_uri": "https://localhost:8080/"
        },
        "id": "yuwJk3LgVD0n",
        "outputId": "583c1df6-b638-44aa-e957-afa731e87d55"
      },
      "outputs": [
        {
          "data": {
            "text/plain": [
              "4"
            ]
          },
          "execution_count": 14,
          "metadata": {},
          "output_type": "execute_result"
        }
      ],
      "source": [
        "len(text_list)"
      ]
    },
    {
      "cell_type": "code",
      "execution_count": null,
      "metadata": {
        "colab": {
          "base_uri": "https://localhost:8080/"
        },
        "id": "PzPMGfnH9i7F",
        "outputId": "0012df79-85ca-4a85-f423-06ac6fad9f67"
      },
      "outputs": [
        {
          "data": {
            "text/plain": [
              "['Injection molding is used for manufacturing a wide variety of parts, frorr\\nsmall components like AAA battery boxes to large components like truck\\nbody panels. Once a component is designed, a mold is made and preci-\\nsion machined to form the features of the desired part. The injection mold-\\ning takes place when a thermoplastic or thermoset plastic material is fec\\ninto a heated barrel, mixed, and forced into the metal mold cavity where i\\ncools and hardens before being removed.\\n\\x0c',\n",
              " 'Mold and die are used interchangeably to describe the tooling applied to\\nproduce plastic parts. They are typically constructed from pre-hardened\\nsteel, hardened steel, aluminum, and/or beryllium-copper alloy. Of these\\nmaterials, hardened steel molds are the most expensive to make, but offer\\nthe user a long lifespan, which offsets the cost per part by spreading it over\\na larger quantity. For low volumes or large components, pre-hardened steel\\nmolds provide a less wear-resistant and less expensive option.\\n\\x0c',\n",
              " 'The most economical molds are produced out of aluminum. When de-\\nsigned and built using CNC machines or Electrical Discharge Machining\\nprocesses, these molds can economically produce tens of thousands to\\nhundreds of thousands of parts. Note that beryllium copper is often used\\nin areas of the mold that require fast heat removal or places that see the\\nmost shear heat generated.\\n\\x0c',\n",
              " 'The injection molding process uses a granular plastic that is gravity fed from\\na hopper. A screw-type plunger forces the material into a heated chamber,\\ncalled a barrel, where it is melted. The plunger continues to advance, push-\\ning the polymer through a nozzle at the end of the barrel that is pressed\\nagainst the mold. The plastic enters the mold cavity through a gate and\\nrunner system. After the cavity is filled, a holding pressure is maintained\\nto compensate for material shrinkage as it cools. At this same time, the\\n\\x0c']"
            ]
          },
          "execution_count": 15,
          "metadata": {},
          "output_type": "execute_result"
        }
      ],
      "source": [
        "text_list"
      ]
    },
    {
      "cell_type": "markdown",
      "metadata": {
        "id": "hTqVtMr8UH0K"
      },
      "source": [
        "###Titles Extraction into List\n"
      ]
    },
    {
      "cell_type": "code",
      "execution_count": null,
      "metadata": {
        "id": "jCmOPGTE9iKA"
      },
      "outputs": [],
      "source": []
    },
    {
      "cell_type": "code",
      "execution_count": null,
      "metadata": {
        "colab": {
          "base_uri": "https://localhost:8080/"
        },
        "id": "-dvs2HrKUHUW",
        "outputId": "7962a329-bdc8-48cb-8571-28dd21f18dfc"
      },
      "outputs": [
        {
          "name": "stdout",
          "output_type": "stream",
          "text": [
            "TOOLING\n",
            "\f\n",
            "---\n",
            "INJECTION MOLDING\n",
            "\f\n",
            "---\n",
            "NJECTION MOLDED PARTS\n",
            "\f\n",
            "---\n",
            "['TOOLING\\n\\x0c', 'INJECTION MOLDING\\n\\x0c', 'NJECTION MOLDED PARTS\\n\\x0c']\n"
          ]
        }
      ],
      "source": [
        "title_blocks = lp.Layout([b for b in layout if b.type=='Title'])\n",
        "\n",
        "h_1, w_1 = image.shape[:2]\n",
        "\n",
        "left_interval_1 = lp.Interval(0, w/2*1.05, axis='x').put_on_canvas(image)\n",
        "\n",
        "left_blocks_1 = title_blocks.filter_by(left_interval_1, center=True)\n",
        "left_blocks_1.sort(key = lambda b:b.coordinates[1], inplace=True)\n",
        "\n",
        "right_blocks_1 = [b for b in title_blocks if b not in left_blocks_1]\n",
        "right_blocks_1.sort(key = lambda b:b.coordinates[1])\n",
        "# And finally combine the two list and add the index\n",
        "# according to the order\n",
        "title_blocks = lp.Layout([b.set(id = idx) for idx, b in enumerate(left_blocks_1 + right_blocks_1)])\n",
        "\n",
        "lp.draw_box(image, title_blocks,\n",
        "            box_width=3,\n",
        "            show_element_id=True)\n",
        "for block in title_blocks:\n",
        "    segment_image = (block\n",
        "                       .pad(left=5, right=5, top=5, bottom=5)\n",
        "                       .crop_image(image))\n",
        "        # add padding in each image segment can help\n",
        "        # improve robustness\n",
        "\n",
        "    text_1 = ocr_agent.detect(segment_image)\n",
        "    block.set(text=text_1, inplace=True)\n",
        "\n",
        "title_list = []\n",
        "for txt in title_blocks.get_texts():\n",
        "    print(txt, end='\\n---\\n')\n",
        "    title_list.append(txt)\n",
        "\n",
        "print(title_list)"
      ]
    },
    {
      "cell_type": "code",
      "execution_count": null,
      "metadata": {
        "colab": {
          "base_uri": "https://localhost:8080/"
        },
        "id": "cegCw8MlUfea",
        "outputId": "15f69364-4352-47a9-f1e4-b861448df58a"
      },
      "outputs": [
        {
          "data": {
            "text/plain": [
              "['RIB INTERSECTIONS\\n\\x0c',\n",
              " 'RIB GUILDELINES\\n\\x0c',\n",
              " 'RIB/LOAD AFFECT ON STIFFNESS\\n\\x0c',\n",
              " 'DRAFT AND TEXTURE\\n\\x0c']"
            ]
          },
          "execution_count": 16,
          "metadata": {},
          "output_type": "execute_result"
        }
      ],
      "source": [
        "title_list"
      ]
    },
    {
      "cell_type": "code",
      "execution_count": null,
      "metadata": {
        "colab": {
          "base_uri": "https://localhost:8080/"
        },
        "id": "-Ck1RfiS-EPM",
        "outputId": "56c95282-b251-43e7-f3bc-63004035818d"
      },
      "outputs": [
        {
          "data": {
            "text/plain": [
              "TextBlock(block=Rectangle(x_1=76.74003601074219, y_1=290.5187683105469, x_2=303.3755187988281, y_2=327.1947326660156), text=RIB INTERSECTIONS\n",
              "\n",
              ", id=0, type=Title, parent=None, next=None, score=0.9743063449859619)"
            ]
          },
          "execution_count": 17,
          "metadata": {},
          "output_type": "execute_result"
        }
      ],
      "source": [
        "title_blocks[0]"
      ]
    },
    {
      "cell_type": "code",
      "execution_count": null,
      "metadata": {
        "colab": {
          "base_uri": "https://localhost:8080/"
        },
        "id": "_Dwj_bQC-JSu",
        "outputId": "60394efb-59b5-478d-f25d-59bc1ca39349"
      },
      "outputs": [
        {
          "data": {
            "text/plain": [
              "TextBlock(block=Rectangle(x_1=75.00328063964844, y_1=820.4400024414062, x_2=270.156982421875, y_2=857.1689453125), text=RIB GUILDELINES\n",
              "\n",
              ", id=1, type=Title, parent=None, next=None, score=0.9905503988265991)"
            ]
          },
          "execution_count": 18,
          "metadata": {},
          "output_type": "execute_result"
        }
      ],
      "source": [
        "title_blocks[1]"
      ]
    },
    {
      "cell_type": "code",
      "execution_count": null,
      "metadata": {
        "id": "42r8gjwB-JVl"
      },
      "outputs": [],
      "source": [
        "title_blocks[2]"
      ]
    },
    {
      "cell_type": "code",
      "execution_count": null,
      "metadata": {
        "id": "iFFfUKVm_jbU"
      },
      "outputs": [],
      "source": []
    },
    {
      "cell_type": "code",
      "execution_count": null,
      "metadata": {
        "id": "uLBimCMzCcRu"
      },
      "outputs": [],
      "source": []
    },
    {
      "cell_type": "code",
      "execution_count": null,
      "metadata": {
        "id": "y_rpLyn5CcZ0"
      },
      "outputs": [],
      "source": []
    },
    {
      "cell_type": "code",
      "execution_count": null,
      "metadata": {
        "id": "uuhbAom5CcdH"
      },
      "outputs": [],
      "source": []
    },
    {
      "cell_type": "markdown",
      "metadata": {
        "id": "IoePhEsd_kDm"
      },
      "source": [
        "###Extraction of Title and Paragraph "
      ]
    },
    {
      "cell_type": "code",
      "execution_count": null,
      "metadata": {
        "id": "DZ4imLt7AsLu"
      },
      "outputs": [],
      "source": []
    },
    {
      "cell_type": "code",
      "execution_count": null,
      "metadata": {
        "colab": {
          "base_uri": "https://localhost:8080/"
        },
        "id": "fcn3rC6iBvVy",
        "outputId": "092e2a8f-8965-403d-8cfd-7f2d9b31875a"
      },
      "outputs": [
        {
          "data": {
            "text/plain": [
              "17"
            ]
          },
          "execution_count": 20,
          "metadata": {},
          "output_type": "execute_result"
        }
      ],
      "source": [
        "len(layout)"
      ]
    },
    {
      "cell_type": "code",
      "execution_count": null,
      "metadata": {
        "colab": {
          "base_uri": "https://localhost:8080/"
        },
        "id": "AXlItq7h-jOa",
        "outputId": "06a48ce5-26e6-424c-cdc8-b4284e8757ba"
      },
      "outputs": [
        {
          "name": "stdout",
          "output_type": "stream",
          "text": [
            "INJECT]\n",
            "\n",
            " \n",
            "\f\n",
            "---\n",
            "TOOLING\n",
            "\f\n",
            "---\n",
            "INJECTION MOLDING\n",
            "\f\n",
            "---\n",
            "NJECTION MOLDED PARTS\n",
            "\f\n",
            "---\n",
            "Injection molding is used for manufacturing a wide variety of parts, frorr\n",
            "small components like AAA battery boxes to large components like truck\n",
            "body panels. Once a component is designed, a mold is made and preci-\n",
            "sion machined to form the features of the desired part. The injection mold-\n",
            "ing takes place when a thermoplastic or thermoset plastic material is fec\n",
            "into a heated barrel, mixed, and forced into the metal mold cavity where i\n",
            "cools and hardens before being removed.\n",
            "\f\n",
            "---\n",
            "Mold and die are used interchangeably to describe the tooling applied to\n",
            "produce plastic parts. They are typically constructed from pre-hardened\n",
            "steel, hardened steel, aluminum, and/or beryllium-copper alloy. Of these\n",
            "materials, hardened steel molds are the most expensive to make, but offer\n",
            "the user a long lifespan, which offsets the cost per part by spreading it over\n",
            "a larger quantity. For low volumes or large components, pre-hardened steel\n",
            "molds provide a less wear-resistant and less expensive option.\n",
            "\f\n",
            "---\n",
            "The most economical molds are produced out of aluminum. When de-\n",
            "signed and built using CNC machines or Electrical Discharge Machining\n",
            "processes, these molds can economically produce tens of thousands to\n",
            "hundreds of thousands of parts. Note that beryllium copper is often used\n",
            "in areas of the mold that require fast heat removal or places that see the\n",
            "most shear heat generated.\n",
            "\f\n",
            "---\n",
            "The injection molding process uses a granular plastic that is gravity fed from\n",
            "a hopper. A screw-type plunger forces the material into a heated chamber,\n",
            "called a barrel, where it is melted. The plunger continues to advance, push-\n",
            "ing the polymer through a nozzle at the end of the barrel that is pressed\n",
            "against the mold. The plastic enters the mold cavity through a gate and\n",
            "runner system. After the cavity is filled, a holding pressure is maintained\n",
            "to compensate for material shrinkage as it cools. At this same time, the\n",
            "\f\n",
            "---\n",
            "['INJECT]\\n\\n \\n\\x0c', 'TOOLING\\n\\x0c', 'INJECTION MOLDING\\n\\x0c', 'NJECTION MOLDED PARTS\\n\\x0c', 'Injection molding is used for manufacturing a wide variety of parts, frorr\\nsmall components like AAA battery boxes to large components like truck\\nbody panels. Once a component is designed, a mold is made and preci-\\nsion machined to form the features of the desired part. The injection mold-\\ning takes place when a thermoplastic or thermoset plastic material is fec\\ninto a heated barrel, mixed, and forced into the metal mold cavity where i\\ncools and hardens before being removed.\\n\\x0c', 'Mold and die are used interchangeably to describe the tooling applied to\\nproduce plastic parts. They are typically constructed from pre-hardened\\nsteel, hardened steel, aluminum, and/or beryllium-copper alloy. Of these\\nmaterials, hardened steel molds are the most expensive to make, but offer\\nthe user a long lifespan, which offsets the cost per part by spreading it over\\na larger quantity. For low volumes or large components, pre-hardened steel\\nmolds provide a less wear-resistant and less expensive option.\\n\\x0c', 'The most economical molds are produced out of aluminum. When de-\\nsigned and built using CNC machines or Electrical Discharge Machining\\nprocesses, these molds can economically produce tens of thousands to\\nhundreds of thousands of parts. Note that beryllium copper is often used\\nin areas of the mold that require fast heat removal or places that see the\\nmost shear heat generated.\\n\\x0c', 'The injection molding process uses a granular plastic that is gravity fed from\\na hopper. A screw-type plunger forces the material into a heated chamber,\\ncalled a barrel, where it is melted. The plunger continues to advance, push-\\ning the polymer through a nozzle at the end of the barrel that is pressed\\nagainst the mold. The plastic enters the mold cavity through a gate and\\nrunner system. After the cavity is filled, a holding pressure is maintained\\nto compensate for material shrinkage as it cools. At this same time, the\\n\\x0c']\n"
          ]
        }
      ],
      "source": [
        "para_title_blocks = lp.Layout([b for b in layout])\n",
        "\n",
        "h_2, w_2 = image.shape[:2]\n",
        "\n",
        "left_interval_2 = lp.Interval(0, w/2*1.05, axis='x').put_on_canvas(image)\n",
        "\n",
        "left_blocks_2 = para_title_blocks.filter_by(left_interval_2, center=True)\n",
        "left_blocks_2.sort(key = lambda b:b.coordinates[1], inplace=True)\n",
        "\n",
        "right_blocks_2 = [b for b in para_title_blocks if b not in left_blocks_2]\n",
        "right_blocks_2.sort(key = lambda b:b.coordinates[1])\n",
        "# And finally combine the two list and add the index\n",
        "# according to the order\n",
        "para_title_blocks = lp.Layout([b.set(id = idx) for idx, b in enumerate(left_blocks_2 + right_blocks_2)])\n",
        "\n",
        "lp.draw_box(image, para_title_blocks,\n",
        "            box_width=3,\n",
        "            show_element_id=True)\n",
        "for block in para_title_blocks:\n",
        "    segment_image = (block\n",
        "                       .pad(left=5, right=5, top=5, bottom=5)\n",
        "                       .crop_image(image))\n",
        "        # add padding in each image segment can help\n",
        "        # improve robustness\n",
        "\n",
        "    text_2 = ocr_agent.detect(segment_image)\n",
        "    block.set(text=text_2, inplace=True)\n",
        "\n",
        "para_title_list = []\n",
        "for txt in para_title_blocks.get_texts():\n",
        "    print(txt, end='\\n---\\n')\n",
        "    para_title_list.append(txt)\n",
        "\n",
        "print(para_title_list)"
      ]
    },
    {
      "cell_type": "code",
      "execution_count": null,
      "metadata": {
        "colab": {
          "base_uri": "https://localhost:8080/"
        },
        "id": "lASs7QKH-jQ4",
        "outputId": "1816aae1-7e2f-45a5-b4df-869115814f02"
      },
      "outputs": [
        {
          "data": {
            "text/plain": [
              "17"
            ]
          },
          "execution_count": 47,
          "metadata": {},
          "output_type": "execute_result"
        }
      ],
      "source": [
        "len(para_title_list)"
      ]
    },
    {
      "cell_type": "code",
      "execution_count": null,
      "metadata": {
        "colab": {
          "base_uri": "https://localhost:8080/",
          "height": 36
        },
        "id": "3KuuV2fN-jUL",
        "outputId": "1e03d4f5-1489-470f-e2be-84f89c1221cd"
      },
      "outputs": [
        {
          "data": {
            "application/vnd.google.colaboratory.intrinsic+json": {
              "type": "string"
            },
            "text/plain": [
              "'Core at Rib\\nIntersection\\nMinimizes Sink\\n\\n    \\n\\n\\\\)\\n\\x0c'"
            ]
          },
          "execution_count": 49,
          "metadata": {},
          "output_type": "execute_result"
        }
      ],
      "source": [
        "para_title_list[2]"
      ]
    },
    {
      "cell_type": "code",
      "execution_count": null,
      "metadata": {
        "id": "MtF8LVzQG3fW"
      },
      "outputs": [],
      "source": [
        "type(title_blocks)"
      ]
    },
    {
      "cell_type": "code",
      "execution_count": null,
      "metadata": {
        "id": "lae9QgtZBlCe"
      },
      "outputs": [],
      "source": []
    },
    {
      "cell_type": "code",
      "execution_count": null,
      "metadata": {
        "id": "Bg4kO5mtBlFz"
      },
      "outputs": [],
      "source": []
    },
    {
      "cell_type": "markdown",
      "metadata": {
        "id": "PnWeB1Q5Blpt"
      },
      "source": [
        "#### KeyBERT"
      ]
    },
    {
      "cell_type": "code",
      "execution_count": null,
      "metadata": {
        "id": "ZM481mxRDS8b"
      },
      "outputs": [],
      "source": []
    },
    {
      "cell_type": "code",
      "execution_count": null,
      "metadata": {
        "id": "X-0GVFbsUEBu"
      },
      "outputs": [],
      "source": []
    },
    {
      "cell_type": "code",
      "execution_count": null,
      "metadata": {
        "id": "Qofw0H06UEEj"
      },
      "outputs": [],
      "source": []
    },
    {
      "cell_type": "code",
      "execution_count": null,
      "metadata": {
        "id": "Udc8_x5bUEGz"
      },
      "outputs": [],
      "source": []
    },
    {
      "cell_type": "code",
      "execution_count": null,
      "metadata": {
        "id": "XdB47KecUEKY"
      },
      "outputs": [],
      "source": [
        "#########################"
      ]
    },
    {
      "cell_type": "code",
      "execution_count": null,
      "metadata": {
        "colab": {
          "base_uri": "https://localhost:8080/"
        },
        "id": "UQ7t2zFPUFNS",
        "outputId": "170babad-2acd-4eb8-d07a-73de8a34fa38"
      },
      "outputs": [
        {
          "name": "stdout",
          "output_type": "stream",
          "text": [
            "['A rib is oriented in such a way as to provide maximum\\nbending stiffness to the part. By paying attention to part\\ngeometry, designers must be conscious of the orienta-\\ntion of the rib to the bending load or there will be no\\nincrease in stiffness.\\n\\x0c', 'The height of a rib should be limited to less than three\\ntimes its thickness. It is better to use multiple ribs to\\nincrease bending stiffness than to use one very tall rib.\\n\\x0c', 'Because the thickness of the material will be greater at\\nthe rib intersections, coring or another means of ma-\\nterial removal should be employed to avoid excessive\\nsinking from occurring on the opposite side.\\n\\x0c', 'Figure 10: Coring at rib intersections\\n\\x0c', 'Figure 11: Design guidelines for ribs\\n\\x0c', 'Figure 12: Rib/ load orientation affects part stiffness;\\nDraft angles for ribs should be a minimum of 0.25 to 0.5\\ndegree of draft per side\\n\\x0c', 'Mold drafts facilitate part removal from the mold. The\\ndraft must be in an offset angle that is parallel to the\\nmold opening and closing. The ideal draft angle for\\na given part depends on the depth of the part in the\\nmold and its required end-use function.\\n\\x0c', 'Allowing for as much draft as possible will permit parts\\nto release from the mold easily. Typically, one to two\\ndegrees of drafts with an additional 1.5 degrees per\\n0.25mm depth of texture is enough to do the trick.\\n\\x0c', 'The mold part line will need to be located in a way that\\nsplits the draft in order to minimize it. If no draft is ac-\\nceptable due to design considerations, a side action\\nmold may be required.\\n\\x0c']\n"
          ]
        }
      ],
      "source": [
        "#text_blocks.get_texts()\n",
        "print(text_list)"
      ]
    },
    {
      "cell_type": "code",
      "execution_count": null,
      "metadata": {
        "id": "ttsqY-lAeHb1"
      },
      "outputs": [],
      "source": [
        "#################################"
      ]
    },
    {
      "cell_type": "code",
      "execution_count": null,
      "metadata": {
        "id": "PWmjqhWANdvQ"
      },
      "outputs": [],
      "source": []
    },
    {
      "cell_type": "code",
      "execution_count": null,
      "metadata": {
        "colab": {
          "base_uri": "https://localhost:8080/"
        },
        "id": "HgcqnfWzEPIJ",
        "outputId": "24e32bb4-15ed-4ee4-9447-871e3f00f00e"
      },
      "outputs": [
        {
          "data": {
            "text/plain": [
              "['A rib is oriented in such a way as to provide maximum\\nbending stiffness to the part. By paying attention to part\\ngeometry, designers must be conscious of the orienta-\\ntion of the rib to the bending load or there will be no\\nincrease in stiffness.\\n\\x0c',\n",
              " 'The height of a rib should be limited to less than three\\ntimes its thickness. It is better to use multiple ribs to\\nincrease bending stiffness than to use one very tall rib.\\n\\x0c',\n",
              " 'Because the thickness of the material will be greater at\\nthe rib intersections, coring or another means of ma-\\nterial removal should be employed to avoid excessive\\nsinking from occurring on the opposite side.\\n\\x0c',\n",
              " 'Figure 10: Coring at rib intersections\\n\\x0c',\n",
              " 'Figure 11: Design guidelines for ribs\\n\\x0c',\n",
              " 'Figure 12: Rib/ load orientation affects part stiffness;\\nDraft angles for ribs should be a minimum of 0.25 to 0.5\\ndegree of draft per side\\n\\x0c',\n",
              " 'Mold drafts facilitate part removal from the mold. The\\ndraft must be in an offset angle that is parallel to the\\nmold opening and closing. The ideal draft angle for\\na given part depends on the depth of the part in the\\nmold and its required end-use function.\\n\\x0c',\n",
              " 'Allowing for as much draft as possible will permit parts\\nto release from the mold easily. Typically, one to two\\ndegrees of drafts with an additional 1.5 degrees per\\n0.25mm depth of texture is enough to do the trick.\\n\\x0c',\n",
              " 'The mold part line will need to be located in a way that\\nsplits the draft in order to minimize it. If no draft is ac-\\nceptable due to design considerations, a side action\\nmold may be required.\\n\\x0c']"
            ]
          },
          "execution_count": 28,
          "metadata": {},
          "output_type": "execute_result"
        }
      ],
      "source": [
        "text_list"
      ]
    },
    {
      "cell_type": "code",
      "execution_count": null,
      "metadata": {
        "colab": {
          "base_uri": "https://localhost:8080/"
        },
        "id": "hG3Y07F9EPLW",
        "outputId": "5e539bb1-d3b2-4271-ad15-b18eb81f2bdd"
      },
      "outputs": [
        {
          "data": {
            "text/plain": [
              "['RIB INTERSECTIONS\\n\\x0c',\n",
              " 'Because the thickness of the material will be greater at\\nthe rib intersections, coring or another means of ma-\\nterial removal should be employed to avoid excessive\\nsinking from occurring on the opposite side.\\n\\x0c',\n",
              " 'Core at Rib\\nIntersection\\nMinimizes Sink\\n\\n    \\n\\n\\\\)\\n\\x0c',\n",
              " 'Figure 10: Coring at rib intersections\\n\\x0c',\n",
              " 'RIB GUILDELINES\\n\\x0c',\n",
              " 'The height of a rib should be limited to less than three\\ntimes its thickness. It is better to use multiple ribs to\\nincrease bending stiffness than to use one very tall rib.\\n\\x0c',\n",
              " '4\\n\\n \\n\\n \\n\\n \\n\\n— H<(3xT)\\n\\n \\n\\n \\n\\nS$ 2(2xT)\\n\\n \\n\\n[\\nCt\\n\\n40-60% of T\\n\\x0c',\n",
              " 'Figure 11: Design guidelines for ribs\\n\\x0c',\n",
              " 'RIB/LOAD AFFECT ON STIFFNESS\\n\\x0c',\n",
              " 'A rib is oriented in such a way as to provide maximum\\nbending stiffness to the part. By paying attention to part\\ngeometry, designers must be conscious of the orienta-\\ntion of the rib to the bending load or there will be no\\nincrease in stiffness.\\n\\x0c',\n",
              " '   \\n\\n  \\n\\nRib Reaction iw\\nReaction Force Ribs\\n\\nForce Reaction\\nReaction Force\\nForce\\n\\x0c',\n",
              " 'Figure 12: Rib/ load orientation affects part stiffness;\\nDraft angles for ribs should be a minimum of 0.25 to 0.5\\ndegree of draft per side\\n\\x0c',\n",
              " 'DRAFT AND TEXTURE\\n\\x0c',\n",
              " 'Mold drafts facilitate part removal from the mold. The\\ndraft must be in an offset angle that is parallel to the\\nmold opening and closing. The ideal draft angle for\\na given part depends on the depth of the part in the\\nmold and its required end-use function.\\n\\x0c',\n",
              " ' \\n\\n \\n\\nFigure 12: Draft Angle\\n\\x0c',\n",
              " 'Allowing for as much draft as possible will permit parts\\nto release from the mold easily. Typically, one to two\\ndegrees of drafts with an additional 1.5 degrees per\\n0.25mm depth of texture is enough to do the trick.\\n\\x0c',\n",
              " 'The mold part line will need to be located in a way that\\nsplits the draft in order to minimize it. If no draft is ac-\\nceptable due to design considerations, a side action\\nmold may be required.\\n\\x0c']"
            ]
          },
          "execution_count": 29,
          "metadata": {},
          "output_type": "execute_result"
        }
      ],
      "source": [
        "para_title_list"
      ]
    },
    {
      "cell_type": "code",
      "execution_count": null,
      "metadata": {
        "colab": {
          "base_uri": "https://localhost:8080/",
          "height": 165
        },
        "id": "tYZY8JZHjg4R",
        "outputId": "5e575ea6-d912-4f8e-bfe7-ccf067f8c630"
      },
      "outputs": [
        {
          "ename": "NameError",
          "evalue": "ignored",
          "output_type": "error",
          "traceback": [
            "\u001b[0;31m---------------------------------------------------------------------------\u001b[0m",
            "\u001b[0;31mNameError\u001b[0m                                 Traceback (most recent call last)",
            "\u001b[0;32m<ipython-input-18-2c46de146d47>\u001b[0m in \u001b[0;36m<module>\u001b[0;34m()\u001b[0m\n\u001b[0;32m----> 1\u001b[0;31m \u001b[0mpara_title_list\u001b[0m\u001b[0;34m\u001b[0m\u001b[0;34m\u001b[0m\u001b[0m\n\u001b[0m",
            "\u001b[0;31mNameError\u001b[0m: name 'para_title_list' is not defined"
          ]
        }
      ],
      "source": [
        "para_title_list"
      ]
    },
    {
      "cell_type": "code",
      "execution_count": null,
      "metadata": {
        "id": "Z2iVRSGnvn8E"
      },
      "outputs": [],
      "source": []
    },
    {
      "cell_type": "code",
      "execution_count": null,
      "metadata": {
        "colab": {
          "base_uri": "https://localhost:8080/"
        },
        "id": "6RQeo9nlDMdx",
        "outputId": "ff576e8a-04ed-4c8c-d6b3-af1f449455d4"
      },
      "outputs": [
        {
          "name": "stdout",
          "output_type": "stream",
          "text": [
            "ok\n",
            "ok\n",
            "ok\n",
            "ok\n"
          ]
        }
      ],
      "source": [
        "for i in range(n):\n",
        "  print('ok')"
      ]
    },
    {
      "cell_type": "code",
      "execution_count": null,
      "metadata": {
        "colab": {
          "base_uri": "https://localhost:8080/"
        },
        "id": "D_56VEMcCxHl",
        "outputId": "df250a92-8029-465e-a613-0c6fcd7b5c63"
      },
      "outputs": [
        {
          "data": {
            "text/plain": [
              "1"
            ]
          },
          "execution_count": 112,
          "metadata": {},
          "output_type": "execute_result"
        }
      ],
      "source": [
        "i"
      ]
    },
    {
      "cell_type": "code",
      "execution_count": null,
      "metadata": {
        "colab": {
          "base_uri": "https://localhost:8080/"
        },
        "id": "yitI9j-0BzWR",
        "outputId": "fc837d56-77c4-44fc-834c-e1fb2f2c80ba"
      },
      "outputs": [
        {
          "data": {
            "text/plain": [
              "{'DRAFT AND TEXTURE\\n\\x0c': [],\n",
              " 'RIB GUILDELINES\\n\\x0c': [],\n",
              " 'RIB INTERSECTIONS\\n\\x0c': ['RIB INTERSECTIONS\\n\\x0c',\n",
              "  'Because the thickness of the material will be greater at\\nthe rib intersections, coring or another means of ma-\\nterial removal should be employed to avoid excessive\\nsinking from occurring on the opposite side.\\n\\x0c',\n",
              "  'Core at Rib\\nIntersection\\nMinimizes Sink\\n\\n    \\n\\n\\\\)\\n\\x0c',\n",
              "  'Figure 10: Coring at rib intersections\\n\\x0c',\n",
              "  'RIB GUILDELINES\\n\\x0c',\n",
              "  'The height of a rib should be limited to less than three\\ntimes its thickness. It is better to use multiple ribs to\\nincrease bending stiffness than to use one very tall rib.\\n\\x0c',\n",
              "  '4\\n\\n \\n\\n \\n\\n \\n\\n— H<(3xT)\\n\\n \\n\\n \\n\\nS$ 2(2xT)\\n\\n \\n\\n[\\nCt\\n\\n40-60% of T\\n\\x0c',\n",
              "  'Figure 11: Design guidelines for ribs\\n\\x0c',\n",
              "  'RIB/LOAD AFFECT ON STIFFNESS\\n\\x0c',\n",
              "  'A rib is oriented in such a way as to provide maximum\\nbending stiffness to the part. By paying attention to part\\ngeometry, designers must be conscious of the orienta-\\ntion of the rib to the bending load or there will be no\\nincrease in stiffness.\\n\\x0c',\n",
              "  '   \\n\\n  \\n\\nRib Reaction iw\\nReaction Force Ribs\\n\\nForce Reaction\\nReaction Force\\nForce\\n\\x0c',\n",
              "  'Figure 12: Rib/ load orientation affects part stiffness;\\nDraft angles for ribs should be a minimum of 0.25 to 0.5\\ndegree of draft per side\\n\\x0c'],\n",
              " 'RIB/LOAD AFFECT ON STIFFNESS\\n\\x0c': []}"
            ]
          },
          "execution_count": 122,
          "metadata": {},
          "output_type": "execute_result"
        }
      ],
      "source": [
        "dic_1"
      ]
    },
    {
      "cell_type": "code",
      "execution_count": null,
      "metadata": {
        "id": "X1p5-lVg1bp2"
      },
      "outputs": [],
      "source": [
        "dic = {}\n",
        "for j in title_list:\n",
        "  dic['%s'%j]=[]\n",
        "\n",
        "\n",
        " "
      ]
    },
    {
      "cell_type": "code",
      "execution_count": null,
      "metadata": {
        "colab": {
          "base_uri": "https://localhost:8080/"
        },
        "id": "_SZYAyAk4crK",
        "outputId": "3cc7704c-8f8a-4a94-b48b-0e3945268314"
      },
      "outputs": [
        {
          "data": {
            "text/plain": [
              "{'DRAFT AND TEXTURE\\n\\x0c': [],\n",
              " 'RIB GUILDELINES\\n\\x0c': [],\n",
              " 'RIB INTERSECTIONS\\n\\x0c': [],\n",
              " 'RIB/LOAD AFFECT ON STIFFNESS\\n\\x0c': []}"
            ]
          },
          "execution_count": 88,
          "metadata": {},
          "output_type": "execute_result"
        }
      ],
      "source": [
        "dic"
      ]
    },
    {
      "cell_type": "code",
      "execution_count": null,
      "metadata": {
        "colab": {
          "base_uri": "https://localhost:8080/",
          "height": 36
        },
        "id": "GECY95MLAVhl",
        "outputId": "f12ef0fd-3bf8-442a-ba27-4e5923a43c58"
      },
      "outputs": [
        {
          "data": {
            "application/vnd.google.colaboratory.intrinsic+json": {
              "type": "string"
            },
            "text/plain": [
              "'RIB INTERSECTIONS\\n\\x0c'"
            ]
          },
          "execution_count": 93,
          "metadata": {},
          "output_type": "execute_result"
        }
      ],
      "source": [
        "list(dic.keys())[0]"
      ]
    },
    {
      "cell_type": "code",
      "execution_count": null,
      "metadata": {
        "colab": {
          "base_uri": "https://localhost:8080/"
        },
        "id": "maMYBhqOAd0C",
        "outputId": "769277d7-d397-4664-fd39-8829c6ffda7b"
      },
      "outputs": [
        {
          "data": {
            "text/plain": [
              "[]"
            ]
          },
          "execution_count": 94,
          "metadata": {},
          "output_type": "execute_result"
        }
      ],
      "source": [
        "dic[list(dic.keys())[0]]"
      ]
    },
    {
      "cell_type": "code",
      "execution_count": null,
      "metadata": {
        "colab": {
          "base_uri": "https://localhost:8080/"
        },
        "id": "IRnpDbNTAd3G",
        "outputId": "4d46a726-d013-40ce-f8db-0cd462445b03"
      },
      "outputs": [
        {
          "data": {
            "text/plain": [
              "list"
            ]
          },
          "execution_count": 95,
          "metadata": {},
          "output_type": "execute_result"
        }
      ],
      "source": [
        "type(dic[list(dic.keys())[0]])"
      ]
    },
    {
      "cell_type": "code",
      "execution_count": null,
      "metadata": {
        "id": "48T9XJm6Ad6m"
      },
      "outputs": [],
      "source": []
    },
    {
      "cell_type": "code",
      "execution_count": null,
      "metadata": {
        "colab": {
          "base_uri": "https://localhost:8080/"
        },
        "id": "FHB88HYW-Nwb",
        "outputId": "c3cf5eb3-981c-4273-8534-1a29a183b0fc"
      },
      "outputs": [
        {
          "data": {
            "text/plain": [
              "list"
            ]
          },
          "execution_count": 91,
          "metadata": {},
          "output_type": "execute_result"
        }
      ],
      "source": [
        "type(dic['DRAFT AND TEXTURE\\n\\x0c'])"
      ]
    },
    {
      "cell_type": "code",
      "execution_count": null,
      "metadata": {
        "colab": {
          "base_uri": "https://localhost:8080/",
          "height": 165
        },
        "id": "uCluSThZ-NzB",
        "outputId": "0d22805e-7ef3-4ac9-a538-4a349a95242c"
      },
      "outputs": [
        {
          "ename": "KeyError",
          "evalue": "ignored",
          "output_type": "error",
          "traceback": [
            "\u001b[0;31m---------------------------------------------------------------------------\u001b[0m",
            "\u001b[0;31mKeyError\u001b[0m                                  Traceback (most recent call last)",
            "\u001b[0;32m<ipython-input-92-d5a2f4e83513>\u001b[0m in \u001b[0;36m<module>\u001b[0;34m()\u001b[0m\n\u001b[0;32m----> 1\u001b[0;31m \u001b[0mdic\u001b[0m\u001b[0;34m[\u001b[0m\u001b[0;36m0\u001b[0m\u001b[0;34m]\u001b[0m\u001b[0;34m\u001b[0m\u001b[0;34m\u001b[0m\u001b[0m\n\u001b[0m",
            "\u001b[0;31mKeyError\u001b[0m: 0"
          ]
        }
      ],
      "source": [
        "dic[0]"
      ]
    },
    {
      "cell_type": "code",
      "execution_count": null,
      "metadata": {
        "id": "CeXzAKR2-N2f"
      },
      "outputs": [],
      "source": []
    },
    {
      "cell_type": "code",
      "execution_count": null,
      "metadata": {
        "colab": {
          "base_uri": "https://localhost:8080/",
          "height": 182
        },
        "id": "3SVhpgse4SBh",
        "outputId": "10067ac0-27cf-4f12-a1dd-2708d72dd83b"
      },
      "outputs": [
        {
          "ename": "KeyError",
          "evalue": "ignored",
          "output_type": "error",
          "traceback": [
            "\u001b[0;31m---------------------------------------------------------------------------\u001b[0m",
            "\u001b[0;31mKeyError\u001b[0m                                  Traceback (most recent call last)",
            "\u001b[0;32m<ipython-input-86-f49ec95451bd>\u001b[0m in \u001b[0;36m<module>\u001b[0;34m()\u001b[0m\n\u001b[1;32m      1\u001b[0m \u001b[0;32mfor\u001b[0m \u001b[0mj\u001b[0m \u001b[0;32min\u001b[0m \u001b[0mrange\u001b[0m\u001b[0;34m(\u001b[0m\u001b[0mk\u001b[0m\u001b[0;34m)\u001b[0m\u001b[0;34m:\u001b[0m\u001b[0;34m\u001b[0m\u001b[0;34m\u001b[0m\u001b[0m\n\u001b[0;32m----> 2\u001b[0;31m     \u001b[0mglobals\u001b[0m\u001b[0;34m(\u001b[0m\u001b[0;34m)\u001b[0m\u001b[0;34m[\u001b[0m\u001b[0;34m'list_'\u001b[0m \u001b[0;34m+\u001b[0m \u001b[0mstr\u001b[0m\u001b[0;34m(\u001b[0m\u001b[0mj\u001b[0m\u001b[0;34m)\u001b[0m\u001b[0;34m]\u001b[0m\u001b[0;34m\u001b[0m\u001b[0;34m\u001b[0m\u001b[0m\n\u001b[0m",
            "\u001b[0;31mKeyError\u001b[0m: 'list_0'"
          ]
        }
      ],
      "source": [
        "for j in range(k):\n",
        "    globals()['list_' + str(j)] "
      ]
    },
    {
      "cell_type": "code",
      "execution_count": null,
      "metadata": {
        "id": "mIQ-ZXe94SFB"
      },
      "outputs": [],
      "source": []
    },
    {
      "cell_type": "code",
      "execution_count": null,
      "metadata": {
        "colab": {
          "base_uri": "https://localhost:8080/"
        },
        "id": "QCeaKjEE19Y7",
        "outputId": "0f9ce6d9-74e4-46da-869c-f00e84f1dbd9"
      },
      "outputs": [
        {
          "data": {
            "text/plain": [
              "{'DRAFT AND TEXTURE\\n\\x0c': [],\n",
              " 'RIB GUILDELINES\\n\\x0c': [],\n",
              " 'RIB INTERSECTIONS\\n\\x0c': [],\n",
              " 'RIB/LOAD AFFECT ON STIFFNESS\\n\\x0c': []}"
            ]
          },
          "execution_count": 77,
          "metadata": {},
          "output_type": "execute_result"
        }
      ],
      "source": [
        "dic"
      ]
    },
    {
      "cell_type": "code",
      "execution_count": null,
      "metadata": {
        "colab": {
          "base_uri": "https://localhost:8080/",
          "height": 217
        },
        "id": "RQplPDLJ2p97",
        "outputId": "885f0525-26be-4cea-ccc9-1e2140f28bab"
      },
      "outputs": [
        {
          "ename": "TypeError",
          "evalue": "ignored",
          "output_type": "error",
          "traceback": [
            "\u001b[0;31m---------------------------------------------------------------------------\u001b[0m",
            "\u001b[0;31mTypeError\u001b[0m                                 Traceback (most recent call last)",
            "\u001b[0;32m<ipython-input-83-0d4c51abac84>\u001b[0m in \u001b[0;36m<module>\u001b[0;34m()\u001b[0m\n\u001b[1;32m      1\u001b[0m \u001b[0mi\u001b[0m \u001b[0;34m=\u001b[0m \u001b[0;36m1\u001b[0m\u001b[0;34m\u001b[0m\u001b[0;34m\u001b[0m\u001b[0m\n\u001b[0;32m----> 2\u001b[0;31m \u001b[0mdic\u001b[0m\u001b[0;34m[\u001b[0m\u001b[0;34m'%s'\u001b[0m\u001b[0;34m%\u001b[0m\u001b[0mtitle_list\u001b[0m\u001b[0;34m(\u001b[0m\u001b[0mi\u001b[0m\u001b[0;34m)\u001b[0m\u001b[0;34m]\u001b[0m\u001b[0;34m\u001b[0m\u001b[0;34m\u001b[0m\u001b[0m\n\u001b[0m\u001b[1;32m      3\u001b[0m \u001b[0;34m\u001b[0m\u001b[0m\n\u001b[1;32m      4\u001b[0m \u001b[0;34m'%s'\u001b[0m\u001b[0;34m%\u001b[0m\u001b[0mj\u001b[0m\u001b[0;34m\u001b[0m\u001b[0;34m\u001b[0m\u001b[0m\n",
            "\u001b[0;31mTypeError\u001b[0m: 'list' object is not callable"
          ]
        }
      ],
      "source": [
        "i = 1\n",
        "dic['%s'%title_list(i)]\n"
      ]
    },
    {
      "cell_type": "code",
      "execution_count": null,
      "metadata": {
        "colab": {
          "base_uri": "https://localhost:8080/"
        },
        "id": "oD10rAAE2qAN",
        "outputId": "0a1cc61a-9d90-44cf-aa6c-0714147a0b88"
      },
      "outputs": [
        {
          "data": {
            "text/plain": [
              "[]"
            ]
          },
          "execution_count": 81,
          "metadata": {},
          "output_type": "execute_result"
        }
      ],
      "source": [
        "dic['DRAFT AND TEXTURE\\n\\x0c']"
      ]
    },
    {
      "cell_type": "code",
      "execution_count": null,
      "metadata": {
        "id": "2YHm69Iq2qCl"
      },
      "outputs": [],
      "source": []
    },
    {
      "cell_type": "code",
      "execution_count": null,
      "metadata": {
        "id": "B6FPruQC2qGB"
      },
      "outputs": [],
      "source": []
    },
    {
      "cell_type": "code",
      "execution_count": null,
      "metadata": {
        "colab": {
          "base_uri": "https://localhost:8080/"
        },
        "id": "MvnUI9V02Pfo",
        "outputId": "f36b165b-e894-45bb-ca1c-39f241f91e99"
      },
      "outputs": [
        {
          "data": {
            "text/plain": [
              "[]"
            ]
          },
          "execution_count": 75,
          "metadata": {},
          "output_type": "execute_result"
        }
      ],
      "source": [
        "dic['lst_DRAFT AND TEXTURE\\n\\x0c']"
      ]
    },
    {
      "cell_type": "code",
      "execution_count": null,
      "metadata": {
        "colab": {
          "base_uri": "https://localhost:8080/"
        },
        "id": "bDapJoYdptat",
        "outputId": "1e639873-2ef9-407b-cca7-d384dbe3304a"
      },
      "outputs": [
        {
          "name": "stdout",
          "output_type": "stream",
          "text": [
            "The TOOLING\n",
            "\f has an index of 1.\n",
            "The INJECTION MOLDING\n",
            "\f has an index of 2.\n",
            "TOOLING\n",
            "\f\n",
            "['TOOLING\\n\\x0c']\n"
          ]
        }
      ],
      "source": [
        "a = title_list[0]\n",
        "b = title_list[1]\n",
        "\n",
        "if a in para_title_list:\n",
        "    result_1 = para_title_list.index(a)\n",
        "    print(f\"The {a} has an index of {result_1}.\")\n",
        "else:\n",
        "    print(f\"{a} doesn't exist in the list.\")\n",
        "\n",
        "if b in para_title_list:\n",
        "    result_2 = para_title_list.index(b)\n",
        "    print(f\"The {b} has an index of {result_2}.\")\n",
        "else:\n",
        "    print(f\"{b} doesn't exist in the list.\")\n",
        "\n",
        "\n",
        "l_1_1=[]\n",
        "for i_final in para_title_list:\n",
        "  if result_1 < result_2:\n",
        "    print(para_title_list[result_1])\n",
        "    l_1_1.append(para_title_list[result_1])\n",
        "    result_1 = result_1+1\n",
        "  else:\n",
        "    ('done')\n",
        "print(l_1_1)\n"
      ]
    },
    {
      "cell_type": "code",
      "execution_count": null,
      "metadata": {
        "colab": {
          "base_uri": "https://localhost:8080/"
        },
        "id": "CLHGu5Zc2OXu",
        "outputId": "7f335e32-f397-4a2e-e2fe-62f475d888f6"
      },
      "outputs": [
        {
          "data": {
            "text/plain": [
              "['Injection molding is used for manufacturing a wide variety of parts, frorr\\nsmall components like AAA battery boxes to large components like truck\\nbody panels. Once a component is designed, a mold is made and preci-\\nsion machined to form the features of the desired part. The injection mold-\\ning takes place when a thermoplastic or thermoset plastic material is fec\\ninto a heated barrel, mixed, and forced into the metal mold cavity where i\\ncools and hardens before being removed.\\n\\x0c',\n",
              " 'Mold and die are used interchangeably to describe the tooling applied to\\nproduce plastic parts. They are typically constructed from pre-hardened\\nsteel, hardened steel, aluminum, and/or beryllium-copper alloy. Of these\\nmaterials, hardened steel molds are the most expensive to make, but offer\\nthe user a long lifespan, which offsets the cost per part by spreading it over\\na larger quantity. For low volumes or large components, pre-hardened steel\\nmolds provide a less wear-resistant and less expensive option.\\n\\x0c',\n",
              " 'The most economical molds are produced out of aluminum. When de-\\nsigned and built using CNC machines or Electrical Discharge Machining\\nprocesses, these molds can economically produce tens of thousands to\\nhundreds of thousands of parts. Note that beryllium copper is often used\\nin areas of the mold that require fast heat removal or places that see the\\nmost shear heat generated.\\n\\x0c',\n",
              " 'The injection molding process uses a granular plastic that is gravity fed from\\na hopper. A screw-type plunger forces the material into a heated chamber,\\ncalled a barrel, where it is melted. The plunger continues to advance, push-\\ning the polymer through a nozzle at the end of the barrel that is pressed\\nagainst the mold. The plastic enters the mold cavity through a gate and\\nrunner system. After the cavity is filled, a holding pressure is maintained\\nto compensate for material shrinkage as it cools. At this same time, the\\n\\x0c']"
            ]
          },
          "execution_count": 22,
          "metadata": {},
          "output_type": "execute_result"
        }
      ],
      "source": [
        "text_list"
      ]
    },
    {
      "cell_type": "code",
      "execution_count": null,
      "metadata": {
        "colab": {
          "base_uri": "https://localhost:8080/"
        },
        "id": "_y54HBzUH85g",
        "outputId": "95533e0d-d70e-444f-87e4-d14b5e617285"
      },
      "outputs": [
        {
          "data": {
            "text/plain": [
              "['TOOLING\\n\\x0c', 'INJECTION MOLDING\\n\\x0c', 'NJECTION MOLDED PARTS\\n\\x0c']"
            ]
          },
          "execution_count": 23,
          "metadata": {},
          "output_type": "execute_result"
        }
      ],
      "source": [
        "title_list"
      ]
    },
    {
      "cell_type": "code",
      "execution_count": null,
      "metadata": {
        "id": "BtfT4AplH88u"
      },
      "outputs": [],
      "source": [
        "a"
      ]
    },
    {
      "cell_type": "code",
      "execution_count": null,
      "metadata": {
        "colab": {
          "base_uri": "https://localhost:8080/"
        },
        "id": "NocIDXtZG3jT",
        "outputId": "4cb842c5-691f-40ec-fcfc-b288c5657c78"
      },
      "outputs": [
        {
          "data": {
            "text/plain": [
              "['INJECT]\\n\\n \\n\\x0c',\n",
              " 'TOOLING\\n\\x0c',\n",
              " 'INJECTION MOLDING\\n\\x0c',\n",
              " 'NJECTION MOLDED PARTS\\n\\x0c',\n",
              " 'Injection molding is used for manufacturing a wide variety of parts, frorr\\nsmall components like AAA battery boxes to large components like truck\\nbody panels. Once a component is designed, a mold is made and preci-\\nsion machined to form the features of the desired part. The injection mold-\\ning takes place when a thermoplastic or thermoset plastic material is fec\\ninto a heated barrel, mixed, and forced into the metal mold cavity where i\\ncools and hardens before being removed.\\n\\x0c',\n",
              " 'Mold and die are used interchangeably to describe the tooling applied to\\nproduce plastic parts. They are typically constructed from pre-hardened\\nsteel, hardened steel, aluminum, and/or beryllium-copper alloy. Of these\\nmaterials, hardened steel molds are the most expensive to make, but offer\\nthe user a long lifespan, which offsets the cost per part by spreading it over\\na larger quantity. For low volumes or large components, pre-hardened steel\\nmolds provide a less wear-resistant and less expensive option.\\n\\x0c',\n",
              " 'The most economical molds are produced out of aluminum. When de-\\nsigned and built using CNC machines or Electrical Discharge Machining\\nprocesses, these molds can economically produce tens of thousands to\\nhundreds of thousands of parts. Note that beryllium copper is often used\\nin areas of the mold that require fast heat removal or places that see the\\nmost shear heat generated.\\n\\x0c',\n",
              " 'The injection molding process uses a granular plastic that is gravity fed from\\na hopper. A screw-type plunger forces the material into a heated chamber,\\ncalled a barrel, where it is melted. The plunger continues to advance, push-\\ning the polymer through a nozzle at the end of the barrel that is pressed\\nagainst the mold. The plastic enters the mold cavity through a gate and\\nrunner system. After the cavity is filled, a holding pressure is maintained\\nto compensate for material shrinkage as it cools. At this same time, the\\n\\x0c']"
            ]
          },
          "execution_count": 25,
          "metadata": {},
          "output_type": "execute_result"
        }
      ],
      "source": [
        "para_title_list"
      ]
    },
    {
      "cell_type": "code",
      "execution_count": null,
      "metadata": {
        "colab": {
          "base_uri": "https://localhost:8080/"
        },
        "id": "h1UcqgaYMefW",
        "outputId": "35fe425c-f3f1-4e07-c089-2dee87f3ea8f"
      },
      "outputs": [
        {
          "name": "stdout",
          "output_type": "stream",
          "text": [
            "RIB INTERSECTIONS\n",
            "\f\n",
            "Because the thickness of the material will be greater at\n",
            "the rib intersections, coring or another means of ma-\n",
            "terial removal should be employed to avoid excessive\n",
            "sinking from occurring on the opposite side.\n",
            "\f\n",
            "Core at Rib\n",
            "Intersection\n",
            "Minimizes Sink\n",
            "\n",
            "    \n",
            "\n",
            "\\)\n",
            "\f\n",
            "Figure 10: Coring at rib intersections\n",
            "\f\n"
          ]
        }
      ],
      "source": []
    },
    {
      "cell_type": "code",
      "execution_count": null,
      "metadata": {
        "colab": {
          "base_uri": "https://localhost:8080/"
        },
        "id": "eCdLHR0NMein",
        "outputId": "1ac19602-8700-4bd5-f03e-ce5feca109f1"
      },
      "outputs": [
        {
          "data": {
            "text/plain": [
              "4"
            ]
          },
          "execution_count": 34,
          "metadata": {},
          "output_type": "execute_result"
        }
      ],
      "source": [
        "len(l_1_1)"
      ]
    },
    {
      "cell_type": "code",
      "execution_count": null,
      "metadata": {
        "colab": {
          "base_uri": "https://localhost:8080/"
        },
        "id": "THMfQDaGS1Ac",
        "outputId": "a20a3b3a-5b8a-4d51-e2ef-1b4d0056b6a1"
      },
      "outputs": [
        {
          "name": "stdout",
          "output_type": "stream",
          "text": [
            "['INJECTION MOLDING MATERIALS\\n\\x0c', '‘Materials Selection: Many types of thermoplastic ma-\\nterials are available. Selection depends on the specific\\napplication. The chart below shows some of the most\\n‘common materials being used.\\n\\x0c', ' \\n\\n \\n\\n \\n\\n \\n\\n \\n\\n \\n\\n \\n\\n \\n\\nPolyphenylene Sulfide\\nNylons Pea\\nPolycarbonates Polyehter Sutfone\\n= Polyetheretherketone\\nPEEK\\nAcrylics Fluoropolymers\\nE aoa\\nPolyphenylene Oxide\\nPoiyethylenes peo\\n‘Acrylonitrile Butadiene Polyurethanes\\nStyrene PUR,\\n‘Thermoplastic Polyphthalamide\\n\\n \\n\\n \\n\\n \\n\\x0c', 'WALL SECTION\\nCONSIDERATIONS\\n\\x0c']\n"
          ]
        }
      ],
      "source": [
        "print(l_1_1)"
      ]
    },
    {
      "cell_type": "code",
      "execution_count": null,
      "metadata": {
        "colab": {
          "base_uri": "https://localhost:8080/",
          "height": 182
        },
        "id": "eVt8r9njI0p-",
        "outputId": "72fd2779-124c-4d9f-a2f7-0e4e3c0e36f7"
      },
      "outputs": [
        {
          "ename": "NameError",
          "evalue": "ignored",
          "output_type": "error",
          "traceback": [
            "\u001b[0;31m---------------------------------------------------------------------------\u001b[0m",
            "\u001b[0;31mNameError\u001b[0m                                 Traceback (most recent call last)",
            "\u001b[0;32m<ipython-input-26-3f1af17df9aa>\u001b[0m in \u001b[0;36m<module>\u001b[0;34m()\u001b[0m\n\u001b[0;32m----> 1\u001b[0;31m \u001b[0;32mfor\u001b[0m \u001b[0mi_final\u001b[0m \u001b[0;32min\u001b[0m \u001b[0;34m(\u001b[0m\u001b[0mpara_title_list\u001b[0m\u001b[0;34m[\u001b[0m\u001b[0mi_1\u001b[0m\u001b[0;34m]\u001b[0m\u001b[0;34m,\u001b[0m\u001b[0mpara_title_list\u001b[0m\u001b[0;34m[\u001b[0m\u001b[0mi_2\u001b[0m\u001b[0;34m]\u001b[0m\u001b[0;34m)\u001b[0m\u001b[0;34m:\u001b[0m\u001b[0;34m\u001b[0m\u001b[0;34m\u001b[0m\u001b[0m\n\u001b[0m\u001b[1;32m      2\u001b[0m   \u001b[0mprint\u001b[0m\u001b[0;34m(\u001b[0m\u001b[0mi_final\u001b[0m\u001b[0;34m)\u001b[0m\u001b[0;34m\u001b[0m\u001b[0;34m\u001b[0m\u001b[0m\n",
            "\u001b[0;31mNameError\u001b[0m: name 'i_1' is not defined"
          ]
        }
      ],
      "source": [
        "for i_final in (para_title_list[i_1],para_title_list[i_2]):\n",
        "  print(i_final)"
      ]
    },
    {
      "cell_type": "code",
      "execution_count": null,
      "metadata": {
        "id": "ftiQkR7TMPax"
      },
      "outputs": [],
      "source": [
        "#########################################################\n"
      ]
    },
    {
      "cell_type": "code",
      "execution_count": null,
      "metadata": {
        "colab": {
          "base_uri": "https://localhost:8080/"
        },
        "id": "cLtcoTY8LBcG",
        "outputId": "41082c55-f62a-4f6b-ee0b-e0a2431d1475"
      },
      "outputs": [
        {
          "name": "stdout",
          "output_type": "stream",
          "text": [
            "The INJECTION MOLDING\n",
            "\f has an index of 2.\n",
            "The NJECTION MOLDED PARTS\n",
            "\f has an index of 3.\n",
            "INJECTION MOLDING\n",
            "\f\n"
          ]
        }
      ],
      "source": [
        "c = title_list[1]\n",
        "d = title_list[2]\n",
        "\n",
        "if a in para_title_list:\n",
        "    result_3 = para_title_list.index(c)\n",
        "    print(f\"The {c} has an index of {result_3}.\")\n",
        "else:\n",
        "    print(f\"{c} doesn't exist in the list.\")\n",
        "\n",
        "if d in para_title_list:\n",
        "    result_4 = para_title_list.index(d)\n",
        "    print(f\"The {d} has an index of {result_4}.\")\n",
        "else:\n",
        "    print(f\"{d} doesn't exist in the list.\")\n",
        "\n",
        "\n",
        "l_1_2=[]\n",
        "for i_final in para_title_list:\n",
        "  if result_3 < result_4:\n",
        "    print(para_title_list[result_3])\n",
        "    l_1_2.append(para_title_list[result_3])\n",
        "    result_3 = result_3+1\n",
        "  else:\n",
        "    ('done')\n"
      ]
    },
    {
      "cell_type": "code",
      "execution_count": null,
      "metadata": {
        "colab": {
          "base_uri": "https://localhost:8080/"
        },
        "id": "9gcub8ATLCMj",
        "outputId": "df256382-b0a5-4c63-a67b-f37b47abef78"
      },
      "outputs": [
        {
          "name": "stdout",
          "output_type": "stream",
          "text": [
            "INJECTION MOLDING\n",
            "\f\n"
          ]
        }
      ],
      "source": []
    },
    {
      "cell_type": "code",
      "execution_count": null,
      "metadata": {
        "colab": {
          "base_uri": "https://localhost:8080/"
        },
        "id": "FqR_vB49LCPJ",
        "outputId": "5afeb8fd-b0b6-4601-88c2-32a6ecc0fb9a"
      },
      "outputs": [
        {
          "name": "stdout",
          "output_type": "stream",
          "text": [
            "['RIB GUILDELINES\\n\\x0c', 'The height of a rib should be limited to less than three\\ntimes its thickness. It is better to use multiple ribs to\\nincrease bending stiffness than to use one very tall rib.\\n\\x0c', '4\\n\\n \\n\\n \\n\\n \\n\\n— H<(3xT)\\n\\n \\n\\n \\n\\nS$ 2(2xT)\\n\\n \\n\\n[\\nCt\\n\\n40-60% of T\\n\\x0c', 'Figure 11: Design guidelines for ribs\\n\\x0c']\n"
          ]
        }
      ],
      "source": [
        "print(l_1_2)"
      ]
    },
    {
      "cell_type": "code",
      "execution_count": null,
      "metadata": {
        "colab": {
          "base_uri": "https://localhost:8080/"
        },
        "id": "_CCvmxQfNCzT",
        "outputId": "2ff9d669-2203-405c-9050-f745f8857004"
      },
      "outputs": [
        {
          "data": {
            "text/plain": [
              "['RIB INTERSECTIONS\\n\\x0c',\n",
              " 'RIB GUILDELINES\\n\\x0c',\n",
              " 'RIB/LOAD AFFECT ON STIFFNESS\\n\\x0c',\n",
              " 'DRAFT AND TEXTURE\\n\\x0c']"
            ]
          },
          "execution_count": 38,
          "metadata": {},
          "output_type": "execute_result"
        }
      ],
      "source": [
        "title_list"
      ]
    },
    {
      "cell_type": "code",
      "execution_count": null,
      "metadata": {
        "id": "cGfU-NfJLCSl"
      },
      "outputs": [],
      "source": [
        "######################################################"
      ]
    },
    {
      "cell_type": "code",
      "execution_count": null,
      "metadata": {
        "colab": {
          "base_uri": "https://localhost:8080/"
        },
        "id": "AaeMaXaXI0s-",
        "outputId": "156e162a-0fe7-445b-96e0-7249422c0372"
      },
      "outputs": [
        {
          "name": "stdout",
          "output_type": "stream",
          "text": [
            "The RIB GUILDELINES\n",
            "\f has an index of 4.\n",
            "The RIB/LOAD AFFECT ON STIFFNESS\n",
            "\f has an index of 8.\n",
            "RIB GUILDELINES\n",
            "\f\n",
            "The height of a rib should be limited to less than three\n",
            "times its thickness. It is better to use multiple ribs to\n",
            "increase bending stiffness than to use one very tall rib.\n",
            "\f\n",
            "4\n",
            "\n",
            " \n",
            "\n",
            " \n",
            "\n",
            " \n",
            "\n",
            "— H<(3xT)\n",
            "\n",
            " \n",
            "\n",
            " \n",
            "\n",
            "S$ 2(2xT)\n",
            "\n",
            " \n",
            "\n",
            "[\n",
            "Ct\n",
            "\n",
            "40-60% of T\n",
            "\f\n",
            "Figure 11: Design guidelines for ribs\n",
            "\f\n"
          ]
        }
      ],
      "source": [
        "c = title_list[1]\n",
        "d = title_list[2]\n",
        "\n",
        "if a in para_title_list:\n",
        "    result_3 = para_title_list.index(c)\n",
        "    print(f\"The {c} has an index of {result_3}.\")\n",
        "else:\n",
        "    print(f\"{c} doesn't exist in the list.\")\n",
        "\n",
        "if d in para_title_list:\n",
        "    result_4 = para_title_list.index(d)\n",
        "    print(f\"The {d} has an index of {result_4}.\")\n",
        "else:\n",
        "    print(f\"{d} doesn't exist in the list.\")\n",
        "\n",
        "###################\n",
        "\n",
        "\n",
        "l_1_2=[]\n",
        "for i_final in para_title_list:\n",
        "  if result_3 < result_4:\n",
        "    print(para_title_list[result_3])\n",
        "    l_1_2.append(para_title_list[result_3])\n",
        "    result_3 = result_3+1\n",
        "  else:\n",
        "    ('done')\n"
      ]
    },
    {
      "cell_type": "code",
      "execution_count": null,
      "metadata": {
        "id": "e0UVN9XHJ9fz"
      },
      "outputs": [],
      "source": [
        "d=1"
      ]
    },
    {
      "cell_type": "code",
      "execution_count": null,
      "metadata": {
        "id": "DJJwKRwwJ9jQ"
      },
      "outputs": [],
      "source": [
        "para_title_list[d]"
      ]
    },
    {
      "cell_type": "code",
      "execution_count": null,
      "metadata": {
        "id": "lycbb6IgKDRg"
      },
      "outputs": [],
      "source": []
    }
  ],
  "metadata": {
    "accelerator": "GPU",
    "colab": {
      "collapsed_sections": [],
      "name": "hcl_ocr_layout_parser.ipynb",
      "provenance": []
    },
    "kernelspec": {
      "display_name": "Python 3.9.7 64-bit",
      "language": "python",
      "name": "python3"
    },
    "language_info": {
      "codemirror_mode": {
        "name": "ipython",
        "version": 3
      },
      "file_extension": ".py",
      "mimetype": "text/x-python",
      "name": "python",
      "nbconvert_exporter": "python",
      "pygments_lexer": "ipython3",
      "version": "3.9.7"
    },
    "vscode": {
      "interpreter": {
        "hash": "941096ab4a304f3509822dba92ee1d36e30c4bf17f0e34fdfd12300d4a2ccfca"
      }
    }
  },
  "nbformat": 4,
  "nbformat_minor": 0
}
