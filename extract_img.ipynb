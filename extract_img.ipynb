{
 "cells": [
  {
   "cell_type": "code",
   "execution_count": 1,
   "id": "e9b470a2-a839-4a76-bd4d-030b0a123859",
   "metadata": {
    "ExecuteTime": {
     "end_time": "2022-02-19T09:00:35.530556Z",
     "start_time": "2022-02-19T09:00:34.800773Z"
    }
   },
   "outputs": [],
   "source": [
    "import fitz\n",
    "import io\n",
    "from PIL import Image\n",
    "import pandas as pd"
   ]
  },
  {
   "cell_type": "code",
   "execution_count": 2,
   "id": "a1886e33-4005-4acc-aa42-d2b4a178ce46",
   "metadata": {
    "ExecuteTime": {
     "end_time": "2022-02-19T09:00:36.123935Z",
     "start_time": "2022-02-19T09:00:36.105508Z"
    }
   },
   "outputs": [],
   "source": [
    "pdf = fitz.open(\"189641.pdf\")"
   ]
  },
  {
   "cell_type": "code",
   "execution_count": 3,
   "id": "fa0ea783-ec1f-47d9-9e5b-0811808bc1b5",
   "metadata": {
    "ExecuteTime": {
     "end_time": "2022-02-19T09:00:36.936876Z",
     "start_time": "2022-02-19T09:00:36.642040Z"
    }
   },
   "outputs": [],
   "source": [
    "for page in range(len(pdf)):\n",
    "    page_data = pdf[page]\n",
    "    image_list = page_data.get_images()\n",
    "    # print(image_list)\n",
    "    for img1, img in enumerate(image_list):\n",
    "        data_1 = img[0]\n",
    "        # print(img)\n",
    "        base_image = pdf.extract_image(data_1)\n",
    "        image_bytes = base_image[\"image\"]\n",
    "        image_ext = base_image[\"ext\"]\n",
    "        image = Image.open(io.BytesIO(image_bytes))\n",
    "        #image.show((f\"image{page+1}_{img1}.{image_ext}\", \"r\"))  # reading\n",
    "        image.save(open(f\"image{page+1}_{img1}.{image_ext}\", \"wb\"))  # wtite and save"
   ]
  },
  {
   "cell_type": "code",
   "execution_count": null,
   "id": "5589939a-90f0-4f0c-9b0a-f89a0da9416c",
   "metadata": {},
   "outputs": [],
   "source": []
  }
 ],
 "metadata": {
  "kernelspec": {
   "display_name": "Python 3 (ipykernel)",
   "language": "python",
   "name": "python3"
  },
  "language_info": {
   "codemirror_mode": {
    "name": "ipython",
    "version": 3
   },
   "file_extension": ".py",
   "mimetype": "text/x-python",
   "name": "python",
   "nbconvert_exporter": "python",
   "pygments_lexer": "ipython3",
   "version": "3.8.10"
  },
  "latex_envs": {
   "LaTeX_envs_menu_present": true,
   "autoclose": false,
   "autocomplete": true,
   "bibliofile": "biblio.bib",
   "cite_by": "apalike",
   "current_citInitial": 1,
   "eqLabelWithNumbers": true,
   "eqNumInitial": 1,
   "hotkeys": {
    "equation": "Ctrl-E",
    "itemize": "Ctrl-I"
   },
   "labels_anchors": false,
   "latex_user_defs": false,
   "report_style_numbering": false,
   "user_envs_cfg": false
  },
  "varInspector": {
   "cols": {
    "lenName": 16,
    "lenType": 16,
    "lenVar": 40
   },
   "kernels_config": {
    "python": {
     "delete_cmd_postfix": "",
     "delete_cmd_prefix": "del ",
     "library": "var_list.py",
     "varRefreshCmd": "print(var_dic_list())"
    },
    "r": {
     "delete_cmd_postfix": ") ",
     "delete_cmd_prefix": "rm(",
     "library": "var_list.r",
     "varRefreshCmd": "cat(var_dic_list()) "
    }
   },
   "types_to_exclude": [
    "module",
    "function",
    "builtin_function_or_method",
    "instance",
    "_Feature"
   ],
   "window_display": false
  }
 },
 "nbformat": 4,
 "nbformat_minor": 5
}
