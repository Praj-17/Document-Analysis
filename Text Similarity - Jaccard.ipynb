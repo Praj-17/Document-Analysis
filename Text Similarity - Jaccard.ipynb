{
 "cells": [
  {
   "cell_type": "code",
   "execution_count": null,
   "id": "3e29790d",
   "metadata": {},
   "outputs": [],
   "source": []
  },
  {
   "cell_type": "code",
   "execution_count": null,
   "id": "9a01bf8a",
   "metadata": {},
   "outputs": [],
   "source": []
  },
  {
   "cell_type": "code",
   "execution_count": 1,
   "id": "3fad5b06",
   "metadata": {},
   "outputs": [
    {
     "ename": "SyntaxError",
     "evalue": "invalid syntax (<ipython-input-1-2a7c450d049a>, line 1)",
     "output_type": "error",
     "traceback": [
      "\u001b[1;36m  File \u001b[1;32m\"<ipython-input-1-2a7c450d049a>\"\u001b[1;36m, line \u001b[1;32m1\u001b[0m\n\u001b[1;33m    pip install scipy\u001b[0m\n\u001b[1;37m        ^\u001b[0m\n\u001b[1;31mSyntaxError\u001b[0m\u001b[1;31m:\u001b[0m invalid syntax\n"
     ]
    }
   ],
   "source": [
    "pip install scipy\n",
    "pip install sklearn\n",
    "pip install numpy"
   ]
  },
  {
   "cell_type": "code",
   "execution_count": 2,
   "id": "694407cc",
   "metadata": {},
   "outputs": [],
   "source": [
    "import numpy as np\n",
    "from scipy.spatial.distance import jaccard\n",
    "from sklearn.metrics import jaccard_score"
   ]
  },
  {
   "cell_type": "code",
   "execution_count": 2,
   "id": "72d5434a",
   "metadata": {},
   "outputs": [],
   "source": [
    "\n",
    "sen = [\n",
    "    \"Draft Angle\",\n",
    "    \"Design guidelines for ribsFigure\",\n",
    "    \"The height of a rib should be limited to less than three times its thickness. It is better to use multiple ribs to increase bending stiffness than to use one very tall rib.\",\n",
    "    \"TEXTUREMold drafts facilitate part removal from the mold. The draft must be in an offset angle that is parallel to the mold opening and closing. The ideal draft angle for a given part depends on the depth of the part in the mold and its required end-use function\"\n",
    "]"
   ]
  },
  {
   "cell_type": "code",
   "execution_count": 18,
   "id": "5ea14327",
   "metadata": {},
   "outputs": [],
   "source": [
    "A = np.array([\"Draft\", \"Angle\",0,0,0,0])\n",
    "B = np.array([\"The\", \"ideal\", \"draft\", \"angle\", \"for\", \"a\"])\n",
    "c = np.array([\"Design\" ,\"guidelines\", \"for\", \"ribsFigure\",0,0])"
   ]
  },
  {
   "cell_type": "code",
   "execution_count": null,
   "id": "03217673",
   "metadata": {},
   "outputs": [],
   "source": [
    "A = np.array([\"Draft\", \"Angle\"])\n",
    "B = np.array([\"The\", \"ideal\", \"draft\", \"angle\", \"for\", \"a\"])\n",
    "\"The\", \"ideal\", \"draft\", \"angle\", \"for\", \"a\" given part depends on the depth of the part in the mold and its required end-use function."
   ]
  },
  {
   "cell_type": "code",
   "execution_count": 19,
   "id": "a2206909",
   "metadata": {},
   "outputs": [
    {
     "name": "stdout",
     "output_type": "stream",
     "text": [
      "Jaccard distance of A and B is equal to: 6.0\n",
      "Jaccard distance of A and C is equal to: 4.0\n"
     ]
    }
   ],
   "source": [
    "#similarity = jaccard_score(A, B)\n",
    "distance = jaccard(A, B)\n",
    "\n",
    "#print(f'Jaccard similarity is equal to: {similarity}')\n",
    "print(f'Jaccard distance of A and B is equal to: {distance}')\n",
    "\n",
    "distance = jaccard(A, c)\n",
    "\n",
    "#print(f'Jaccard similarity is equal to: {similarity}')\n",
    "print(f'Jaccard distance of A and C is equal to: {distance}')"
   ]
  },
  {
   "cell_type": "code",
   "execution_count": null,
   "id": "0fdfd94e",
   "metadata": {},
   "outputs": [],
   "source": []
  },
  {
   "cell_type": "code",
   "execution_count": null,
   "id": "827f0cfb",
   "metadata": {},
   "outputs": [],
   "source": []
  },
  {
   "cell_type": "code",
   "execution_count": null,
   "id": "ffa09e24",
   "metadata": {},
   "outputs": [],
   "source": []
  }
 ],
 "metadata": {
  "kernelspec": {
   "display_name": "Python 3",
   "language": "python",
   "name": "python3"
  },
  "language_info": {
   "codemirror_mode": {
    "name": "ipython",
    "version": 3
   },
   "file_extension": ".py",
   "mimetype": "text/x-python",
   "name": "python",
   "nbconvert_exporter": "python",
   "pygments_lexer": "ipython3",
   "version": "3.8.8"
  }
 },
 "nbformat": 4,
 "nbformat_minor": 5
}
