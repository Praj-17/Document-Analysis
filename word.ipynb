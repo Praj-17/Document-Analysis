{
 "cells": [
  {
   "cell_type": "code",
   "execution_count": 11,
   "metadata": {},
   "outputs": [],
   "source": [
    "import docx"
   ]
  },
  {
   "cell_type": "code",
   "execution_count": 12,
   "metadata": {},
   "outputs": [],
   "source": [
    "document = docx.Document('1.docx')"
   ]
  },
  {
   "cell_type": "code",
   "execution_count": 18,
   "metadata": {},
   "outputs": [],
   "source": [
    "def iter_headings(paragraphs):\n",
    "    for paragraph in paragraphs:\n",
    "        \n",
    "        if paragraph.style.name.startswith('Normal'):\n",
    "        \n",
    "            yield paragraph"
   ]
  },
  {
   "cell_type": "code",
   "execution_count": 21,
   "metadata": {},
   "outputs": [
    {
     "name": "stdout",
     "output_type": "stream",
     "text": [
      "Forming\n",
      "Run completed\n",
      " \n",
      "Run completed\n",
      "Basics\t\n",
      "Run completed\n",
      "2\n",
      "Run completed\n",
      "Critical Dimensions Embosses and Offsets Bend Radius\n",
      "Run completed\n",
      "Bend Relief Forming Near\n",
      "Run completed\n",
      " \n",
      "Run completed\n",
      "Holes\n",
      "Run completed\n",
      "Form height to thickness ratio Edge Distortion\n",
      "Run completed\n",
      "Laser\n",
      "Run completed\n",
      " \n",
      "Run completed\n",
      "cutting\t\n",
      "Run completed\n",
      "5\n",
      "Run completed\n",
      "Tolerances\n",
      "Run completed\n",
      "Material Restrictions Acceptable Materials Localized Hardening Hole Diameter\n",
      "Run completed\n",
      "CNC\n",
      "Run completed\n",
      " \n",
      "Run completed\n",
      "Turret\n",
      "Run completed\n",
      " \n",
      "Run completed\n",
      "Basics\t\n",
      "Run completed\n",
      "6\n",
      "Run completed\n",
      "Tolerances Special Forms\n",
      "Run completed\n",
      "Hole-to-edge clearance Hole taper\n",
      "Run completed\n",
      "Hole diameter\n",
      "Run completed\n",
      "Feature placement restrictions Nibbling Large Radii Countersinks\n",
      "Run completed\n",
      "Stamping\t\n",
      "Run completed\n",
      "10\n",
      "Run completed\n",
      "Blanking-Corners Notches and Tabs Cutoffs\n",
      "Run completed\n",
      "Piercing Holes\n",
      "Run completed\n",
      "Edge-to-Hole clearance Forming-Bend Relief Edge Bulging\n",
      "Run completed\n",
      "Hole-to-form Slot-to-form Drawing shapes Drawing Radii\n",
      "Run completed\n",
      "Critical Dimensions Sheet Metal Forming – \n",
      "Run completed\n",
      "Outside dimension should be used unless the inside dimension is critical.\n",
      "Run completed\n",
      "For a \n",
      "Run completed\n",
      "slot or hole > 1\" \n",
      "Run completed\n",
      "diameter then the minimum distance \"D\" = 2.5T + R (see fig. \"C\")\n",
      "Run completed\n",
      "Laser Cutting Basics\n",
      "Run completed\n",
      "\n",
      "Run completed\n",
      "Recommend corner radius of ½ material thickness.\n",
      "Run completed\n",
      "Cutoffs:\n",
      "Run completed\n"
     ]
    }
   ],
   "source": [
    "for heading in iter_headings(document.paragraphs):\n",
    "    for i in range( len(heading.runs)):\n",
    "        print (heading.runs[i].text)"
   ]
  },
  {
   "cell_type": "code",
   "execution_count": 22,
   "metadata": {},
   "outputs": [],
   "source": [
    "sections = document.sections\n",
    "paragraphs = document.paragraphs"
   ]
  },
  {
   "cell_type": "code",
   "execution_count": 26,
   "metadata": {},
   "outputs": [
    {
     "data": {
      "text/plain": [
       "12"
      ]
     },
     "execution_count": 26,
     "metadata": {},
     "output_type": "execute_result"
    }
   ],
   "source": [
    "sections\n",
    "len(sections)"
   ]
  },
  {
   "cell_type": "code",
   "execution_count": 27,
   "metadata": {},
   "outputs": [
    {
     "data": {
      "text/plain": [
       "285"
      ]
     },
     "execution_count": 27,
     "metadata": {},
     "output_type": "execute_result"
    }
   ],
   "source": [
    "paragraphs\n",
    "len(paragraphs) "
   ]
  },
  {
   "cell_type": "code",
   "execution_count": 45,
   "metadata": {},
   "outputs": [
    {
     "name": "stdout",
     "output_type": "stream",
     "text": [
      "1\n",
      "1\n",
      "1\n",
      "1\n",
      "1\n",
      "1\n",
      "1\n",
      "1\n",
      "1\n",
      "1\n",
      "1\n",
      "1\n",
      "1\n",
      "1\n",
      "1\n",
      "1\n",
      "1\n",
      "1\n",
      "1\n",
      "1\n",
      "1\n",
      "1\n",
      "1\n",
      "1\n"
     ]
    }
   ],
   "source": [
    "for section in sections:\n",
    "        print(len(section.header.paragraphs))\n",
    "        print(len(section.footer.paragraphs))\n",
    "        \n",
    "        "
   ]
  },
  {
   "cell_type": "code",
   "execution_count": 46,
   "metadata": {},
   "outputs": [],
   "source": [
    "def getText(filename):\n",
    "    doc = docx.Document(filename)\n",
    "    fullText = []\n",
    "    for para in doc.paragraphs:\n",
    "        fullText.append(para.text)\n",
    "    return '\\n'.join(fullText)"
   ]
  },
  {
   "cell_type": "code",
   "execution_count": 47,
   "metadata": {},
   "outputs": [
    {
     "data": {
      "text/plain": [
       "'\\n\\nSHEET METAL DESIGN HANDBOOK\\nForming Basics\\t2\\nCritical Dimensions Embosses and Offsets Bend Radius\\nBend Relief Forming Near Holes\\nForm height to thickness ratio Edge Distortion\\n\\nLaser cutting\\t5\\nTolerances\\nMaterial Restrictions Acceptable Materials Localized Hardening Hole Diameter\\n\\nCNC Turret Basics\\t6\\nTolerances Special Forms\\nHole-to-edge clearance Hole taper\\nHole diameter\\nFeature placement restrictions Nibbling Large Radii Countersinks\\n\\nStamping\\t10\\nBlanking-Corners Notches and Tabs Cutoffs\\nPiercing Holes\\nEdge-to-Hole clearance Forming-Bend Relief Edge Bulging\\nHole-to-form Slot-to-form Drawing shapes Drawing Radii\\n\\n\\n\\nForming Basics\\n\\nPress brake forming-The fundamental advantage of a press brake as a forming tool is its flexibility. By using standard vee-dies, cost savings can be realized through economical set-ups and run times on small lots and prototypes. In addition to these considerations, using the following guidelines will increase the manufacturability of designs for press brake forming.\\n\\nDimension the part in a single direction wherever possible. Because of the sequential nature of the forming process, and the fact that dimensional variation is introduced at each bend, dimensioning in a single direction parallels the process and helps to control tolerance accumulation. Furthermore, allow a more generous bend tolerance (+/- .007”) as tighter tolerances, while achievable, will result in higher costs.\\n\\nUse consistent bend radius for all bends per part, when possible—it helps minimize setup changes. Additionally, we prefer radii specs in fractions of an inch, as our tooling is sized accordingly.\\n\\nGenerally, dimensioning should be done from a feature to an edge. Avoid feature-to-feature dimensions over two or more planes. Feature-to-bend dimensions may require special fixtures or gauging.\\n\\nThis also means that tolerances in the title block of a drawing may be unnecessarily restrictive for certain dimensions and angles, while very appropriate for others.\\n\\n\\n\\nCritical Dimensions Sheet Metal Forming – Outside dimension should be used unless the inside dimension is critical.\\n\\n\\n\\n\\n\\n\\nEmbosses and Offsets – Emboss and offset dimensions should be to the same side of the material unless the overall height is critical.\\n\\n\\n\\nOnly the truly critical dimensions should be highlighted as such. Placing excessively high tolerances and redundant critical dimensions can dramatically increase the cost of the part.\\n\\n\\n\\n\\n\\nBend Radius- As a rule, inside bend radius should be equal to material thickness. When the radius is less than recommended, this can cause material flow problems in soft material and fracturing in hard material.\\n\\n\\nBend Relief - When a bend is made close to an edge the material may tear unless bend relief is given. Figure \"A\" shows a torn part. Figure \"B\" shows a part with the edge a sufficient distance from the form. This distance should never be less than the radius of the bend. Figure \"C\" shows a bend relief cut into the part, again the depth of the relief should be greater than the radius of the bend. The width of the relief should be a material thickness or greater, preferably a material thickness + 1/64\".\\n\\n\\n\\n\\nForming Near Holes – When a bend is made too close to a hole, the hole may become deformed. Figure \"A\" shows a hole that has become teardrop shaped because of this problem. To save the cost of punching or drilling in a secondary operation the following formulas can be used to calculate the minimum distance required:\\n\\nFor a hole < 1\" in diameter the minimum distance \"D\" = 2T + R (see fig. \"B\")\\n\\nFor a slot or hole > 1\" diameter then the minimum distance \"D\" = 2.5T + R (see fig. \"C\")\\n\\n\\n\\n\\n\\n\\n\\n\\n\\n\\n\\n\\n\\n\\nForm height to thickness ratio – To determine the minimum form height for sheet metal use the following formula: D = 2.5T + R (see below) The height can be less but it required secondary operations and is far more costly.\\n\\n\\n\\n\\n\\n\\nEdge Distortion – An exaggerated example of edge deformation is pictured in figure \"A\" below. The overhang caused by this distortion can be as large as ½ the material thickness. As material thickness increases and bend radius decreases the overhang becomes more severe. In situations where an overhang is unacceptable the part can be relieved as in figure \"B\".\\n\\n\\n\\n\\n\\n\\nLaser Cutting Basics\\n\\nWith very little set up time, no tooling and the advent of CAD to CAM production, lasers are often utilized in prototyping and production parts. Well suited for intricate details and irregular contours, additional economies can be obtained through the nesting of parts when laser cutting.\\n\\nTolerances – The feature to feature tolerance on for the laser cutter is +/-.004\" but is typically held much closer. The smallest cut possible is dictated by the width of the beam or .008\" wide.\\n\\n\\n\\nMaterial restrictions – Materials have three factors that restrict them from laser cutting. These factors are reflectivity, thickness and flammability. Reflectivity causes a problem because the cutting beam gets scattered. Material that is too thick has the same problem: molten metal scatters the beam before the part is fully cut. We can cut metal as thick as 3/8\" but the edge quality suffers greatly. The degree of material flammability is another important factor. Some parts considered flammable can be used. It is best to test flammable or heat sensitive materials before releasing a production part. Below is a list of some of the material we have used.\\n\\nAcceptable Materials\\n\\nAny raw steel (Stainless, CRS, HRS)\\nAluminum Some deburring issues\\nPlastic Check heat & flammability\\nCardstock Check heat & flammability\\nGalvanized, Galvaneal\\n\\nUnacceptable Materials\\n\\nCopper Highly reflective\\n\\n\\n\\nPaper stock Unless treated with flame retardant\\nSilver & other prec. Metals Highly Reflective\\n\\n\\n\\nLocalized Hardening – Due to the intense heat associated with laser cutting, the edges of the material can become hardened. This area is referred to as the Heat Affected Zone (HAZ). This is especially important for secondary operations such as reaming and tapping. The HAZ increases in thicker materials.\\n\\nHole diameter – The entry diameter is larger than the exit diameter, creating a slightly tapered hole. Minimum hole sizes are related to stock thicknesses and can be as low as 20% of the stock thickness.\\n\\n\\n\\n\\n\\nTurret Press Basics\\n\\nCNC Turret presses are particularly suited for low to medium quantity production runs. By utilizing “soft tooling” or standard tooling, turrets lend themselves to both the highly flexible production of prototypes and inexpensive production quantities.\\n\\nTolerances – The feature to feature tolerance for the turret press is +/-.004”, the punched hole tolerance is +/-.002”. When dimensioning for the turret, select meaningful datum in the body of the part—passing through hole centers, if possible—rather than using an edge or corner of the part. Edges can be tapered or misaligned and result in enough variance to be dimensionally uncertain. Furthermore, the use of meaningful datum facilitates inspection.\\n\\nSpecial forms – The turret punch press offers many versatile solutions for putting special features into a flat sheet. Some of the options are counter sinks, offsets, card guides, embosses, draws, wipe forms, part markings, lettering, lances, half-shears, and weld projections. Virtually any form can be made as long as it falls within the following constraints. The form depth must be less than 5/16\" and it must fit into a 3.5\" diameter circle. Progressive tools can also be made for the turret press. These tools can punch and form small parts as efficiently as a progressive punch press tool with a lower initial cost.\\n\\n\\n\\nHole to edge clearance – A good rule of thumb for hole placement is to keep the hole at least one material thickness away from any edge. If the hole gets too close to an edge a bulge can form as shown below. Also note, if the hole is used for fastening two pieces together, extra web\\n\\n\\n\\nshould be used to account for the added stress.\\n\\n\\n\\n\\n\\n\\nHole taper – When a hole is punched it does not have a constant radius through the entire thickness of the part. The cross section of a punched hole is shown below. The taper in the bottom side of the hole is relative to the die clearance. Die clearance is the difference between the punch diameter and die diameter. It is usually about 10% of the material thickness. To get a constant diameter through the entire material thickness the part must be drilled, a far more costly operation.\\n\\n\\n\\n\\n\\n\\nHole diameter to thickness ratio – For most materials hole diameter should not be less than material thickness. As tensile strength increases the punch diameter must also increase.\\n\\n\\n\\nFeature placement restrictions – When placing formed features next to one another, care should be taken allow clearance between features. If the station does not clear a form already placed in the part, the form could be flattened out. An example of good vs. bad placement is illustrated below. Relieving the stripper can overcome this problem in some cases.\\n\\n\\n\\n\\n\\n\\n\\n\\nNibbling large radii – When a large radius is required on a turret part the radius is made by making several hits with a flat tool. The angle and position of the tool changes as it moves around the edge simulating a large radius. The radius edge will have a \"scalloped\" look, tiny points formed where one flat is transitioned to another. The scalloped feature is pictured below. After deburring it is hardly perceivable, but still there.\\n\\n\\n\\n\\n\\n\\n\\n\\n\\n\\n\\n\\n\\n\\n\\nCounter sinks – A counter sink can be put in sheet metal by both machining and/or punching. Each of these methods give the finished part different characteristics. The cross sections of the features are shown below, they are listed from least to most expensive (tooling cost not included).\\n\\nFormed – Low Cost – Used for thin gages, 18 gage and lighter.\\nPunched – Low Cost – Most common, used for anything heavier than 18 gage.\\nPunched and Machined – Medium Cost – Used for harder materials that cannot be formed with a punch, e.g. heavy gage stainless.\\nMachined Complete – High Cost – Rarely used, only for high tolerance applications or materials too thick to be punched.\\n\\n\\n\\n\\n\\n\\n\\n\\n\\n\\nStamping Basics\\n\\nInvolve us during design stage to optimize cost and performance in component design. Engineering changes can be costly.\\n\\nWhile stamping offers precision and good reproducibility, consideration must be given to the amortization of tooling costs over the lifespan of production. Larger quantities typically justify more sophisticated tooling.\\n\\nBlanking:\\n\\nDimension checks are made at the shear area or “cut band” (punch side) as the die side accuracy is affected by break out.\\n\\n\\n\\n\\n\\n\\nCorners- May be sharp, however to reduce tooling costs, specify radii of ½ material thickness or a minimum of .015”.\\n\\nNotches and Tabs- should not be narrower than 1.5X the material thickness. Length of notches can be up to 5X length of material thickness.\\n\\n\\nRecommend corner radius of ½ material thickness.\\n\\n\\n\\n\\n\\n\\n\\n\\n\\n-\\n\\n\\n\\n\\n\\n\\n\\n\\n\\nCutoffs:\\nThere are three kinds of cutoffs in blanking: straight/square, half round or partial radius and full radius. The square cutoff is the most economical. The full radius is not recommended as it leaves an unavoidable “feather edge” burr along the outside material edge.\\n\\nPiercing:\\n\\nHoles-Minimum diameter of holes should be equal or greater than 1.2 X material thickness, and 2X material thickness for stainless steel or high tensile materials.\\n\\nEdge-to-hole- Allow 2x material thickness (“web”) to prevent bulging of material\\n\\n\\n\\nForming:\\n\\nGuidelines are similar to CNC press brake:\\n\\nBend Relief-Provide bend relief along L shaped features (Width=2*T and Depth=T +R)\\n\\nEdge bulging-restrictive tolerances on V bends may result in edge bulging—provide bend relief accordingly.\\n\\nHole-to-form-distance from hole-to-form—to avoid hole distortion, place holes no less than 2.5 times the material thickness + bend radius from the bend itself.\\n\\nSlot-to-form-long slots should be spaced 4 X the material thickness plus the bend radius.\\n\\n\\n\\n\\n\\n\\n\\n\\n\\n\\n\\nDrawing:\\nShapes-A myriad of shapes can be formed through multiple draws. Round shapes offer that greatest ease and economy in drawing. Then next best option is square with adequate corner radii. Costs increase for combinations of basic shapes and irregular shapes.\\n\\nRadii-To facilitate drawing, keep radii as generous as possible: punch and die radius should be a minimum of four times the material thickness. The part radius should be at no less than six times the material thickness with appropriate drawing-quality material.'"
      ]
     },
     "execution_count": 47,
     "metadata": {},
     "output_type": "execute_result"
    }
   ],
   "source": [
    "getText(\"1.docx\")"
   ]
  },
  {
   "cell_type": "code",
   "execution_count": 49,
   "metadata": {},
   "outputs": [
    {
     "name": "stdout",
     "output_type": "stream",
     "text": [
      "Turret Press Basics Forming Basics\t2\n"
     ]
    }
   ],
   "source": [
    "from docx import Document\n",
    "from docx.shared import Inches\n",
    "\n",
    "document = Document(\"1.docx\")\n",
    "headings = []\n",
    "texts = []\n",
    "for paragraph in document.paragraphs:\n",
    "    if paragraph.style.name == \"Heading 2\":\n",
    "        headings.append(paragraph.text)\n",
    "    elif paragraph.style.name == \"Normal\":\n",
    "        texts.append(paragraph.text)\n",
    "\n",
    "for h, t in zip(headings, texts):\n",
    "    print(h, t)"
   ]
  },
  {
   "cell_type": "code",
   "execution_count": 70,
   "metadata": {},
   "outputs": [],
   "source": [
    "import pandas as pd"
   ]
  },
  {
   "cell_type": "code",
   "execution_count": 85,
   "metadata": {},
   "outputs": [
    {
     "name": "stdout",
     "output_type": "stream",
     "text": [
      "[('Forming Basics\\t2', []), ('Critical Dimensions Embosses and Offsets Bend Radius', []), ('Bend Relief Forming Near Holes', []), ('Form height to thickness ratio Edge Distortion', ['']), ('Laser cutting\\t5', []), ('Tolerances', []), ('Material Restrictions Acceptable Materials Localized Hardening Hole Diameter', ['']), ('CNC Turret Basics\\t6', []), ('Tolerances Special Forms', []), ('Hole-to-edge clearance Hole taper', []), ('Hole diameter', []), ('Feature placement restrictions Nibbling Large Radii Countersinks', ['']), ('Stamping\\t10', []), ('Blanking-Corners Notches and Tabs Cutoffs', []), ('Piercing Holes', []), ('Edge-to-Hole clearance Forming-Bend Relief Edge Bulging', []), ('Hole-to-form Slot-to-form Drawing shapes Drawing Radii', []), ('', ['', '', 'Forming Basics', '', 'Press brake forming-The fundamental advantage of a press brake as a forming tool is its flexibility. By using standard vee-dies, cost savings can be realized through economical set-ups and run times on small lots and prototypes. In addition to these considerations, using the following guidelines will increase the manufacturability of designs for press brake forming.', '', 'Dimension the part in a single direction wherever possible. Because of the sequential nature of the forming process, and the fact that dimensional variation is introduced at each bend, dimensioning in a single direction parallels the process and helps to control tolerance accumulation. Furthermore, allow a more generous bend tolerance (+/- .007”) as tighter tolerances, while achievable, will result in higher costs.', '', 'Use consistent bend radius for all bends per part, when possible—it helps minimize setup changes. Additionally, we prefer radii specs in fractions of an inch, as our tooling is sized accordingly.', '', 'Generally, dimensioning should be done from a feature to an edge. Avoid feature-to-feature dimensions over two or more planes. Feature-to-bend dimensions may require special fixtures or gauging.', '', 'This also means that tolerances in the title block of a drawing may be unnecessarily restrictive for certain dimensions and angles, while very appropriate for others.', '', '', '']), ('Critical Dimensions Sheet Metal Forming – Outside dimension should be used unless the inside dimension is critical.', ['', '', '']), ('', ['', '', 'Embosses and Offsets – Emboss and offset dimensions should be to the same side of the material unless the overall height is critical.', '', '', '', 'Only the truly critical dimensions should be highlighted as such. Placing excessively high tolerances and redundant critical dimensions can dramatically increase the cost of the part.', '', '', '', '', '', 'Bend Radius- As a rule, inside bend radius should be equal to material thickness. When the radius is less than recommended, this can cause material flow problems in soft material and fracturing in hard material.', '', '', 'Bend Relief - When a bend is made close to an edge the material may tear unless bend relief is given. Figure \"A\" shows a torn part. Figure \"B\" shows a part with the edge a sufficient distance from the form. This distance should never be less than the radius of the bend. Figure \"C\" shows a bend relief cut into the part, again the depth of the relief should be greater than the radius of the bend. The width of the relief should be a material thickness or greater, preferably a material thickness + 1/64\".', '']), ('', ['', '', 'Forming Near Holes – When a bend is made too close to a hole, the hole may become deformed. Figure \"A\" shows a hole that has become teardrop shaped because of this problem. To save the cost of punching or drilling in a secondary operation the following formulas can be used to calculate the minimum distance required:', '', 'For a hole < 1\" in diameter the minimum distance \"D\" = 2T + R (see fig. \"B\")', '']), ('For a slot or hole > 1\" diameter then the minimum distance \"D\" = 2.5T + R (see fig. \"C\")', ['', '', '', '', '', '', '', '', '', '', '', '', '', '', 'Form height to thickness ratio – To determine the minimum form height for sheet metal use the following formula: D = 2.5T + R (see below) The height can be less but it required secondary operations and is far more costly.', '', '', '']), ('', ['', '', 'Edge Distortion – An exaggerated example of edge deformation is pictured in figure \"A\" below. The overhang caused by this distortion can be as large as ½ the material thickness. As material thickness increases and bend radius decreases the overhang becomes more severe. In situations where an overhang is unacceptable the part can be relieved as in figure \"B\".', '', '', '', '', '', '']), ('Laser Cutting Basics', ['', 'With very little set up time, no tooling and the advent of CAD to CAM production, lasers are often utilized in prototyping and production parts. Well suited for intricate details and irregular contours, additional economies can be obtained through the nesting of parts when laser cutting.', '', 'Tolerances – The feature to feature tolerance on for the laser cutter is +/-.004\" but is typically held much closer. The smallest cut possible is dictated by the width of the beam or .008\" wide.', '', '', '', 'Material restrictions – Materials have three factors that restrict them from laser cutting. These factors are reflectivity, thickness and flammability. Reflectivity causes a problem because the cutting beam gets scattered. Material that is too thick has the same problem: molten metal scatters the beam before the part is fully cut. We can cut metal as thick as 3/8\" but the edge quality suffers greatly. The degree of material flammability is another important factor. Some parts considered flammable can be used. It is best to test flammable or heat sensitive materials before releasing a production part. Below is a list of some of the material we have used.', '', 'Acceptable Materials', '', 'Any raw steel (Stainless, CRS, HRS)', 'Aluminum Some deburring issues', 'Plastic Check heat & flammability', 'Cardstock Check heat & flammability', 'Galvanized, Galvaneal', '', 'Unacceptable Materials', '', 'Copper Highly reflective']), ('', ['', '', 'Paper stock Unless treated with flame retardant', 'Silver & other prec. Metals Highly Reflective', '', '', '', 'Localized Hardening – Due to the intense heat associated with laser cutting, the edges of the material can become hardened. This area is referred to as the Heat Affected Zone (HAZ). This is especially important for secondary operations such as reaming and tapping. The HAZ increases in thicker materials.', '', 'Hole diameter – The entry diameter is larger than the exit diameter, creating a slightly tapered hole. Minimum hole sizes are related to stock thicknesses and can be as low as 20% of the stock thickness.', '', '', '', '', '', 'Turret Press Basics', '', 'CNC Turret presses are particularly suited for low to medium quantity production runs. By utilizing “soft tooling” or standard tooling, turrets lend themselves to both the highly flexible production of prototypes and inexpensive production quantities.', '', 'Tolerances – The feature to feature tolerance for the turret press is +/-.004”, the punched hole tolerance is +/-.002”. When dimensioning for the turret, select meaningful datum in the body of the part—passing through hole centers, if possible—rather than using an edge or corner of the part. Edges can be tapered or misaligned and result in enough variance to be dimensionally uncertain. Furthermore, the use of meaningful datum facilitates inspection.', '', 'Special forms – The turret punch press offers many versatile solutions for putting special features into a flat sheet. Some of the options are counter sinks, offsets, card guides, embosses, draws, wipe forms, part markings, lettering, lances, half-shears, and weld projections. Virtually any form can be made as long as it falls within the following constraints. The form depth must be less than 5/16\" and it must fit into a 3.5\" diameter circle. Progressive tools can also be made for the turret press. These tools can punch and form small parts as efficiently as a progressive punch press tool with a lower initial cost.', '', '', '', 'Hole to edge clearance – A good rule of thumb for hole placement is to keep the hole at least one material thickness away from any edge. If the hole gets too close to an edge a bulge can form as shown below. Also note, if the hole is used for fastening two pieces together, extra web']), ('', ['', '', 'should be used to account for the added stress.', '', '', '', '', '', '', 'Hole taper – When a hole is punched it does not have a constant radius through the entire thickness of the part. The cross section of a punched hole is shown below. The taper in the bottom side of the hole is relative to the die clearance. Die clearance is the difference between the punch diameter and die diameter. It is usually about 10% of the material thickness. To get a constant diameter through the entire material thickness the part must be drilled, a far more costly operation.', '', '', '', '', '', '', 'Hole diameter to thickness ratio – For most materials hole diameter should not be less than material thickness. As tensile strength increases the punch diameter must also increase.']), ('', ['', '', 'Feature placement restrictions – When placing formed features next to one another, care should be taken allow clearance between features. If the station does not clear a form already placed in the part, the form could be flattened out. An example of good vs. bad placement is illustrated below. Relieving the stripper can overcome this problem in some cases.', '', '', '', '', '', '', '', '', 'Nibbling large radii – When a large radius is required on a turret part the radius is made by making several hits with a flat tool. The angle and position of the tool changes as it moves around the edge simulating a large radius. The radius edge will have a \"scalloped\" look, tiny points formed where one flat is transitioned to another. The scalloped feature is pictured below. After deburring it is hardly perceivable, but still there.', '', '', '']), ('', ['', '', '', '', '', '', '', '', '', '', '', 'Counter sinks – A counter sink can be put in sheet metal by both machining and/or punching. Each of these methods give the finished part different characteristics. The cross sections of the features are shown below, they are listed from least to most expensive (tooling cost not included).', '', 'Formed – Low Cost – Used for thin gages, 18 gage and lighter.', 'Punched – Low Cost – Most common, used for anything heavier than 18 gage.', 'Punched and Machined – Medium Cost – Used for harder materials that cannot be formed with a punch, e.g. heavy gage stainless.', 'Machined Complete – High Cost – Rarely used, only for high tolerance applications or materials too thick to be punched.', '', '', '', '', '', '']), ('', ['', '', '', 'Stamping Basics', '', 'Involve us during design stage to optimize cost and performance in component design. Engineering changes can be costly.', '', 'While stamping offers precision and good reproducibility, consideration must be given to the amortization of tooling costs over the lifespan of production. Larger quantities typically justify more sophisticated tooling.', '', 'Blanking:', '', 'Dimension checks are made at the shear area or “cut band” (punch side) as the die side accuracy is affected by break out.', '', '', '', '', '', '', 'Corners- May be sharp, however to reduce tooling costs, specify radii of ½ material thickness or a minimum of .015”.', '', 'Notches and Tabs- should not be narrower than 1.5X the material thickness. Length of notches can be up to 5X length of material thickness.', '', '']), ('Recommend corner radius of ½ material thickness.', ['', '', '', '', '', '', '', '', '', '-']), ('', ['', '', '', '', '', '', '', '']), ('Cutoffs:', ['There are three kinds of cutoffs in blanking: straight/square, half round or partial radius and full radius. The square cutoff is the most economical. The full radius is not recommended as it leaves an unavoidable “feather edge” burr along the outside material edge.', '', 'Piercing:', '', 'Holes-Minimum diameter of holes should be equal or greater than 1.2 X material thickness, and 2X material thickness for stainless steel or high tensile materials.', '', 'Edge-to-hole- Allow 2x material thickness (“web”) to prevent bulging of material', '', '', '', 'Forming:', '', 'Guidelines are similar to CNC press brake:', '', 'Bend Relief-Provide bend relief along L shaped features (Width=2*T and Depth=T +R)', '', 'Edge bulging-restrictive tolerances on V bends may result in edge bulging—provide bend relief accordingly.', '', 'Hole-to-form-distance from hole-to-form—to avoid hole distortion, place holes no less than 2.5 times the material thickness + bend radius from the bend itself.', '', 'Slot-to-form-long slots should be spaced 4 X the material thickness plus the bend radius.']), ('', ['', '', '', '', '', '', '', '', '', '', 'Drawing:', 'Shapes-A myriad of shapes can be formed through multiple draws. Round shapes offer that greatest ease and economy in drawing. Then next best option is square with adequate corner radii. Costs increase for combinations of basic shapes and irregular shapes.', '', 'Radii-To facilitate drawing, keep radii as generous as possible: punch and die radius should be a minimum of four times the material thickness. The part radius should be at no less than six times the material thickness with appropriate drawing-quality material.'])]\n"
     ]
    }
   ],
   "source": [
    "document = Document(\"1.docx\")\n",
    "headings = []\n",
    "texts = []\n",
    "para = []\n",
    "for paragraph in document.paragraphs:\n",
    "    if paragraph.style.name.startswith(\"Normal\"):\n",
    "        if headings:\n",
    "            texts.append(para)\n",
    "        headings.append(paragraph.text)\n",
    "        para = []\n",
    "    elif paragraph.style.name == \"Body Text\":\n",
    "        para.append(paragraph.text)\n",
    "    elif paragraph.style.name == \"Body Text\":\n",
    "        para.append(paragraph.text)\n",
    "    elif paragraph.style.name == \"Heading 1\":\n",
    "        para.append(paragraph.text)\n",
    "    elif paragraph.style.name == \"Heading 2\":\n",
    "        para.append(paragraph.text)\n",
    "    elif paragraph.style.name == \"Heading 3\":\n",
    "        para.append(paragraph.text)\n",
    "    elif paragraph.style.name == \"Heading 4\":\n",
    "        para.append(paragraph.text)\n",
    "    elif paragraph.style.name == \"Heading 5\":\n",
    "        para.append(paragraph.text)\n",
    "    elif paragraph.style.name == \"Title\":\n",
    "        para.append(paragraph.text)\n",
    "    elif paragraph.style.name == \"List Paragraph\":\n",
    "        para.append(paragraph.text)\n",
    "    elif paragraph.style.name == \"Table Paragraph\":\n",
    "        para.append(paragraph.text)\n",
    "if para or len(headings)>len(texts):\n",
    "    texts.append(texts.append(para))\n",
    "df = pd.DataFrame()\n",
    "l1 = []\n",
    "for h, t in zip(headings, texts):\n",
    "     l1.append((h,t))\n",
    "   \n",
    "print(l1)\n",
    "df = pd.DataFrame(l1)\n",
    "df.to_csv(\"data.csv\")\n",
    "        \n",
    "    "
   ]
  },
  {
   "cell_type": "code",
   "execution_count": 75,
   "metadata": {},
   "outputs": [
    {
     "data": {
      "text/html": [
       "<div>\n",
       "<style scoped>\n",
       "    .dataframe tbody tr th:only-of-type {\n",
       "        vertical-align: middle;\n",
       "    }\n",
       "\n",
       "    .dataframe tbody tr th {\n",
       "        vertical-align: top;\n",
       "    }\n",
       "\n",
       "    .dataframe thead th {\n",
       "        text-align: right;\n",
       "    }\n",
       "</style>\n",
       "<table border=\"1\" class=\"dataframe\">\n",
       "  <thead>\n",
       "    <tr style=\"text-align: right;\">\n",
       "      <th></th>\n",
       "    </tr>\n",
       "  </thead>\n",
       "  <tbody>\n",
       "  </tbody>\n",
       "</table>\n",
       "</div>"
      ],
      "text/plain": [
       "Empty DataFrame\n",
       "Columns: []\n",
       "Index: []"
      ]
     },
     "execution_count": 75,
     "metadata": {},
     "output_type": "execute_result"
    }
   ],
   "source": [
    "df"
   ]
  },
  {
   "cell_type": "code",
   "execution_count": 58,
   "metadata": {},
   "outputs": [
    {
     "data": {
      "text/plain": [
       "[_ParagraphStyle('Normal') id: 2388325522928,\n",
       " _ParagraphStyle('Body Text') id: 2388325520624,\n",
       " _ParagraphStyle('Heading 1') id: 2388325521296,\n",
       " _ParagraphStyle('Heading 2') id: 2388325519472,\n",
       " _ParagraphStyle('Heading 3') id: 2388325522400,\n",
       " _ParagraphStyle('Heading 4') id: 2388325521632,\n",
       " _ParagraphStyle('Heading 5') id: 2388329751216,\n",
       " _ParagraphStyle('Title') id: 2388329750928,\n",
       " _ParagraphStyle('List Paragraph') id: 2388329752608,\n",
       " _ParagraphStyle('Table Paragraph') id: 2388329751600]"
      ]
     },
     "execution_count": 58,
     "metadata": {},
     "output_type": "execute_result"
    }
   ],
   "source": [
    "from docx.enum.style import WD_STYLE_TYPE\n",
    "styles = document.styles\n",
    "paragraph_styles = [s for s in styles if s.type == WD_STYLE_TYPE.PARAGRAPH ]\n",
    "paragraph_styles\n",
    "\n"
   ]
  },
  {
   "cell_type": "code",
   "execution_count": 62,
   "metadata": {},
   "outputs": [
    {
     "name": "stdout",
     "output_type": "stream",
     "text": [
      "_ParagraphStyle('Normal') id: 2388325522928\n",
      "_ParagraphStyle('Body Text') id: 2388325520624\n",
      "_ParagraphStyle('Heading 1') id: 2388325521296\n",
      "_ParagraphStyle('Heading 2') id: 2388325519472\n",
      "_ParagraphStyle('Heading 3') id: 2388325522400\n",
      "_ParagraphStyle('Heading 4') id: 2388325521632\n",
      "_ParagraphStyle('Heading 5') id: 2388329751216\n",
      "_ParagraphStyle('Title') id: 2388329750928\n",
      "_ParagraphStyle('List Paragraph') id: 2388329752608\n",
      "_ParagraphStyle('Table Paragraph') id: 2388329751600\n"
     ]
    }
   ],
   "source": [
    "for paragraph in paragraph_styles:\n",
    "    print(paragraph)"
   ]
  },
  {
   "cell_type": "markdown",
   "metadata": {},
   "source": [
    "# Some Inferences\n",
    "\n",
    "1. It considers pages as section\n",
    "2. It is able to extrace text paragph wise but it removes all the stylings including bold, italic, and font size\n",
    "3. I'm not able to traverse through paragraphs according to sections that is a pages\n",
    "4. the word file is precisely able to split the headings from the normal text, it has different css like stylings that we might be able make some good use of\n",
    "5. I have created a csv file that has stored the elements according to the heirarchy \n",
    "6. We can update the loops by adding some stylings to them and then cross check the results\n"
   ]
  },
  {
   "cell_type": "markdown",
   "metadata": {},
   "source": [
    "hello How are you"
   ]
  },
  {
   "cell_type": "code",
   "execution_count": null,
   "metadata": {},
   "outputs": [],
   "source": []
  }
 ],
 "metadata": {
  "interpreter": {
   "hash": "1fb457075518da48b6f10d6a89d1c79a5d3a8a4cce5ab48738750cf0a5c90cbc"
  },
  "kernelspec": {
   "display_name": "Python 3.9.7 64-bit",
   "language": "python",
   "name": "python3"
  },
  "language_info": {
   "codemirror_mode": {
    "name": "ipython",
    "version": 3
   },
   "file_extension": ".py",
   "mimetype": "text/x-python",
   "name": "python",
   "nbconvert_exporter": "python",
   "pygments_lexer": "ipython3",
   "version": "3.9.7"
  },
  "orig_nbformat": 4
 },
 "nbformat": 4,
 "nbformat_minor": 2
}
